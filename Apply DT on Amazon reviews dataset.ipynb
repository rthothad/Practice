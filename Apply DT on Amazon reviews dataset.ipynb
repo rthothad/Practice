{
 "cells": [
  {
   "cell_type": "markdown",
   "metadata": {},
   "source": [
    "## Goal\n",
    "Apply Decision Trees on Amazon Food reviews.\n",
    "1. Since the number of vectors in BoW and tfIDF is large, apply DT on Average Word2Vec & tfIDF Word2Vec\n",
    "2. Train/Test split using time based slicing as a 70-30 split\n",
    "3. Use GridSearchCV to find the optimal depth\n",
    "\n",
    "\n",
    "### Data\n",
    "The Amazon fine food reviews dataset is available [here](https://www.kaggle.com/snap/amazon-fine-food-reviews/downloads/database.sqlite/2). The SQLLite version(database.sqlite) of the dataset is used. A folder called 'amazon-fine-food-reviews' needs to be created in the working directory and downloaded to that folder.\n",
    "\n",
    "Google Word2Vec (GoogleNews-vectors-negative300.bin) is also used and those are available [here](https://drive.google.com/file/d/0B7XkCwpI5KDYNlNUTTlSS21pQmM/edit)"
   ]
  },
  {
   "cell_type": "code",
   "execution_count": 44,
   "metadata": {},
   "outputs": [],
   "source": [
    "import numpy as np\n",
    "import pandas as pd\n",
    "import matplotlib.pyplot as plt\n",
    "\n",
    "from sklearn.tree import DecisionTreeClassifier, export_graphviz\n",
    "import pydotplus, collections\n",
    "\n",
    "\n",
    "from sklearn.model_selection import TimeSeriesSplit, GridSearchCV, RandomizedSearchCV\n",
    "from sklearn.preprocessing import StandardScaler\n",
    "from sklearn.feature_extraction.text import TfidfTransformer, TfidfVectorizer, CountVectorizer\n",
    "from sklearn.metrics import confusion_matrix, f1_score, classification_report, make_scorer, roc_curve, auc\n",
    "from sklearn import metrics\n",
    "from sklearn.decomposition import TruncatedSVD\n",
    "\n",
    "import itertools, pickle, random, sqlite3, nltk, string, re\n",
    "from pathlib import Path\n",
    "from scipy import sparse\n",
    "import scipy as sp\n",
    "\n",
    "import warnings\n",
    "warnings.filterwarnings(\"ignore\")\n",
    "\n",
    "import seaborn as sns\n",
    "from nltk.stem.porter import PorterStemmer\n",
    "from nltk.corpus import stopwords\n",
    "from nltk.stem import PorterStemmer\n",
    "from nltk.stem.wordnet import WordNetLemmatizer\n",
    "\n",
    "from gensim.models import Word2Vec, KeyedVectors\n",
    "from tqdm import tqdm\n",
    "from datetime import datetime, timedelta"
   ]
  },
  {
   "cell_type": "markdown",
   "metadata": {},
   "source": [
    "### Load Data"
   ]
  },
  {
   "cell_type": "code",
   "execution_count": 3,
   "metadata": {},
   "outputs": [],
   "source": [
    "# using the SQLite Table to read data.\n",
    "con = sqlite3.connect('./amazon-fine-food-reviews/database.sqlite') \n",
    "\n",
    "#filtering only positive and negative reviews i.e. \n",
    "# not considering those reviews with Score=3\n",
    "filtered_data = pd.read_sql_query(\"\"\" SELECT * FROM Reviews WHERE Score != 3 \"\"\", con) "
   ]
  },
  {
   "cell_type": "code",
   "execution_count": 4,
   "metadata": {},
   "outputs": [
    {
     "name": "stdout",
     "output_type": "stream",
     "text": [
      "Total number of reviews is 525814 with 10 features each\n"
     ]
    },
    {
     "data": {
      "text/html": [
       "<div>\n",
       "<style scoped>\n",
       "    .dataframe tbody tr th:only-of-type {\n",
       "        vertical-align: middle;\n",
       "    }\n",
       "\n",
       "    .dataframe tbody tr th {\n",
       "        vertical-align: top;\n",
       "    }\n",
       "\n",
       "    .dataframe thead th {\n",
       "        text-align: right;\n",
       "    }\n",
       "</style>\n",
       "<table border=\"1\" class=\"dataframe\">\n",
       "  <thead>\n",
       "    <tr style=\"text-align: right;\">\n",
       "      <th></th>\n",
       "      <th>Id</th>\n",
       "      <th>ProductId</th>\n",
       "      <th>UserId</th>\n",
       "      <th>ProfileName</th>\n",
       "      <th>HelpfulnessNumerator</th>\n",
       "      <th>HelpfulnessDenominator</th>\n",
       "      <th>Score</th>\n",
       "      <th>Time</th>\n",
       "      <th>Summary</th>\n",
       "      <th>Text</th>\n",
       "    </tr>\n",
       "  </thead>\n",
       "  <tbody>\n",
       "    <tr>\n",
       "      <th>0</th>\n",
       "      <td>1</td>\n",
       "      <td>B001E4KFG0</td>\n",
       "      <td>A3SGXH7AUHU8GW</td>\n",
       "      <td>delmartian</td>\n",
       "      <td>1</td>\n",
       "      <td>1</td>\n",
       "      <td>positive</td>\n",
       "      <td>1303862400</td>\n",
       "      <td>Good Quality Dog Food</td>\n",
       "      <td>I have bought several of the Vitality canned d...</td>\n",
       "    </tr>\n",
       "    <tr>\n",
       "      <th>1</th>\n",
       "      <td>2</td>\n",
       "      <td>B00813GRG4</td>\n",
       "      <td>A1D87F6ZCVE5NK</td>\n",
       "      <td>dll pa</td>\n",
       "      <td>0</td>\n",
       "      <td>0</td>\n",
       "      <td>negative</td>\n",
       "      <td>1346976000</td>\n",
       "      <td>Not as Advertised</td>\n",
       "      <td>Product arrived labeled as Jumbo Salted Peanut...</td>\n",
       "    </tr>\n",
       "    <tr>\n",
       "      <th>2</th>\n",
       "      <td>3</td>\n",
       "      <td>B000LQOCH0</td>\n",
       "      <td>ABXLMWJIXXAIN</td>\n",
       "      <td>Natalia Corres \"Natalia Corres\"</td>\n",
       "      <td>1</td>\n",
       "      <td>1</td>\n",
       "      <td>positive</td>\n",
       "      <td>1219017600</td>\n",
       "      <td>\"Delight\" says it all</td>\n",
       "      <td>This is a confection that has been around a fe...</td>\n",
       "    </tr>\n",
       "    <tr>\n",
       "      <th>3</th>\n",
       "      <td>4</td>\n",
       "      <td>B000UA0QIQ</td>\n",
       "      <td>A395BORC6FGVXV</td>\n",
       "      <td>Karl</td>\n",
       "      <td>3</td>\n",
       "      <td>3</td>\n",
       "      <td>negative</td>\n",
       "      <td>1307923200</td>\n",
       "      <td>Cough Medicine</td>\n",
       "      <td>If you are looking for the secret ingredient i...</td>\n",
       "    </tr>\n",
       "    <tr>\n",
       "      <th>4</th>\n",
       "      <td>5</td>\n",
       "      <td>B006K2ZZ7K</td>\n",
       "      <td>A1UQRSCLF8GW1T</td>\n",
       "      <td>Michael D. Bigham \"M. Wassir\"</td>\n",
       "      <td>0</td>\n",
       "      <td>0</td>\n",
       "      <td>positive</td>\n",
       "      <td>1350777600</td>\n",
       "      <td>Great taffy</td>\n",
       "      <td>Great taffy at a great price.  There was a wid...</td>\n",
       "    </tr>\n",
       "  </tbody>\n",
       "</table>\n",
       "</div>"
      ],
      "text/plain": [
       "   Id   ProductId          UserId                      ProfileName  \\\n",
       "0   1  B001E4KFG0  A3SGXH7AUHU8GW                       delmartian   \n",
       "1   2  B00813GRG4  A1D87F6ZCVE5NK                           dll pa   \n",
       "2   3  B000LQOCH0   ABXLMWJIXXAIN  Natalia Corres \"Natalia Corres\"   \n",
       "3   4  B000UA0QIQ  A395BORC6FGVXV                             Karl   \n",
       "4   5  B006K2ZZ7K  A1UQRSCLF8GW1T    Michael D. Bigham \"M. Wassir\"   \n",
       "\n",
       "   HelpfulnessNumerator  HelpfulnessDenominator     Score        Time  \\\n",
       "0                     1                       1  positive  1303862400   \n",
       "1                     0                       0  negative  1346976000   \n",
       "2                     1                       1  positive  1219017600   \n",
       "3                     3                       3  negative  1307923200   \n",
       "4                     0                       0  positive  1350777600   \n",
       "\n",
       "                 Summary                                               Text  \n",
       "0  Good Quality Dog Food  I have bought several of the Vitality canned d...  \n",
       "1      Not as Advertised  Product arrived labeled as Jumbo Salted Peanut...  \n",
       "2  \"Delight\" says it all  This is a confection that has been around a fe...  \n",
       "3         Cough Medicine  If you are looking for the secret ingredient i...  \n",
       "4            Great taffy  Great taffy at a great price.  There was a wid...  "
      ]
     },
     "execution_count": 4,
     "metadata": {},
     "output_type": "execute_result"
    }
   ],
   "source": [
    "# Give reviews with Score>3 a positive rating, and reviews with a score<3 a negative rating.\n",
    "def partition(x):\n",
    "    if x < 3:\n",
    "        return 'negative'\n",
    "    return 'positive'\n",
    "\n",
    "#change reviews with score less than 3 to be positive and vice-versa\n",
    "actualScore = filtered_data['Score']\n",
    "positiveNegative = actualScore.map(partition) \n",
    "filtered_data['Score'] = positiveNegative\n",
    "print ('Total number of reviews is {} with {} features each'.format(*filtered_data.shape))\n",
    "filtered_data.head()"
   ]
  },
  {
   "cell_type": "markdown",
   "metadata": {},
   "source": [
    "### EDA\n",
    "\n",
    "#### Remove Duplicates"
   ]
  },
  {
   "cell_type": "code",
   "execution_count": 5,
   "metadata": {},
   "outputs": [],
   "source": [
    "#Sorting data according to ProductId in ascending order\n",
    "sorted_data=filtered_data.sort_values('ProductId', axis=0, ascending=True, inplace=False, kind='quicksort', na_position='last')\n",
    "#Deduplication of entries\n",
    "final=sorted_data.drop_duplicates(subset={\"UserId\",\"ProfileName\",\"Time\",\"Text\"}, keep='first', inplace=False)"
   ]
  },
  {
   "cell_type": "markdown",
   "metadata": {},
   "source": [
    "#### Data Cleanup"
   ]
  },
  {
   "cell_type": "code",
   "execution_count": 6,
   "metadata": {},
   "outputs": [
    {
     "name": "stdout",
     "output_type": "stream",
     "text": [
      "(364171, 10)\n"
     ]
    },
    {
     "data": {
      "text/plain": [
       "positive    307061\n",
       "negative     57110\n",
       "Name: Score, dtype: int64"
      ]
     },
     "execution_count": 6,
     "metadata": {},
     "output_type": "execute_result"
    }
   ],
   "source": [
    "final=final[final.HelpfulnessNumerator<=final.HelpfulnessDenominator]\n",
    "#Before starting the next phase of preprocessing lets see the number of entries left\n",
    "print(final.shape)\n",
    "\n",
    "#How many positive and negative reviews are present in our dataset?\n",
    "final['Score'].value_counts()"
   ]
  },
  {
   "cell_type": "markdown",
   "metadata": {},
   "source": [
    "#### Note:\n",
    "The dataset is imbalanced. So the metric to evaluate the model should not be accuracy, it could be confusion matrix \n",
    "\n",
    "### PreProcessing\n",
    "\n",
    "#### Stemming, Stop word remove and Lemmatization"
   ]
  },
  {
   "cell_type": "code",
   "execution_count": 7,
   "metadata": {},
   "outputs": [
    {
     "name": "stdout",
     "output_type": "stream",
     "text": [
      "The stop words are \n",
      " {'this', 'myself', 'how', \"shouldn't\", 'any', 'no', 'o', 'be', 'of', 'with', 'does', 'me', \"couldn't\", 'because', 'off', 'which', 'doesn', 'that', 'each', 'we', \"needn't\", 'our', 'a', 'he', \"doesn't\", 'these', 'm', \"won't\", 'same', \"isn't\", 'themselves', 'such', 'both', 't', 'yours', 'wouldn', 'only', 'mightn', \"you're\", 'ours', 'did', 'most', \"that'll\", 'isn', 'own', \"weren't\", \"don't\", 'what', 'ourselves', 'there', 'it', 'against', 'you', 'if', \"wasn't\", 'is', 'why', 'are', 'out', 'theirs', 'mustn', 'needn', 'ain', \"shan't\", 'should', 'by', 'his', 'who', 'am', 'my', 'about', 'below', 'more', 'ma', 'while', 'her', 'those', 'here', 'or', 'shouldn', 'other', 'll', 'some', 'before', \"should've\", 'd', 'to', 'couldn', 'then', 'whom', 'your', 'over', 'himself', 'him', 'in', 'into', 'as', 'were', 're', 'few', 'further', 'shan', 'up', 'under', \"mustn't\", 'until', \"she's\", 'than', 'aren', 'weren', 'hers', 'has', 'once', 'all', 'now', 'having', 'they', 'on', 'when', 'the', \"wouldn't\", 'hadn', 'an', 'y', \"it's\", 'yourselves', 'them', 'down', \"haven't\", 'have', \"aren't\", \"didn't\", \"mightn't\", \"you'll\", 'itself', 'but', 'hasn', 'was', 'had', \"you'd\", 'not', 'haven', 'i', 'its', \"you've\", 'herself', 'doing', 'during', 'can', 'will', 'where', 'and', 'after', 'from', 'above', 'been', 'being', 'don', \"hadn't\", 'too', 'won', 'between', 'again', 'their', 've', 'do', 's', 'at', \"hasn't\", 'just', 'yourself', 'she', 'for', 'so', 'nor', 'through', 'didn', 'very', 'wasn'}\n",
      "************************************************************\n",
      "The stem word for tasty is tasti\n"
     ]
    }
   ],
   "source": [
    "stop = set(stopwords.words('english')) #set of stopwords\n",
    "sno = nltk.stem.SnowballStemmer('english') #initialising the snowball stemmer\n",
    "\n",
    "def cleanhtml(sentence): #function to clean the word of any html-tags\n",
    "    cleanr = re.compile('<.*?>')\n",
    "    cleantext = re.sub(cleanr, ' ', sentence)\n",
    "    return cleantext\n",
    "def cleanpunc(sentence): #function to clean the word of any punctuation or special characters\n",
    "    cleaned = re.sub(r'[?|!|\\'|\"|#]',r'',sentence)\n",
    "    cleaned = re.sub(r'[.|,|)|(|\\|/]',r' ',cleaned)\n",
    "    return  cleaned\n",
    "print('The stop words are \\n {}'.format(stop))\n",
    "print('************************************************************')\n",
    "print('The stem word for tasty is {}'.format(sno.stem('tasty')))"
   ]
  },
  {
   "cell_type": "markdown",
   "metadata": {},
   "source": [
    "We need 3 types of cleaned data so we will use 3 different variables to store this data:\n",
    "1. For Bag of Words and TfIDF we need the stop words to be removed and stemmed\n",
    "2. For Bigrams and trigrams we do not need to remove the stop words but we can stem the words\n",
    "3. For Avg Word2Vec and TfIDF Word2Vec we can remove the stopwords but not stem the words if we plan to use Google's word2vec model."
   ]
  },
  {
   "cell_type": "code",
   "execution_count": 10,
   "metadata": {},
   "outputs": [],
   "source": [
    "i=0\n",
    "str_b=' '\n",
    "str_n=' '\n",
    "str_w=' '\n",
    "bow_tfidf_string=[]\n",
    "ngrams_string=[]\n",
    "word2vec_string=[]\n",
    "s=''\n",
    "for sent in final['Text'].values:\n",
    "    filtered_sentence_b=[]\n",
    "    filtered_sentence_n=[]\n",
    "    filtered_sentence_w=[]\n",
    "    \n",
    "    sent=cleanhtml(sent) # remove HTMl tags\n",
    "    for w in sent.split():\n",
    "        for cleaned_words in cleanpunc(w).split():\n",
    "            if((cleaned_words.isalpha()) & (len(cleaned_words)>2)): \n",
    "                s=(sno.stem(cleaned_words.lower())).encode('utf8')\n",
    "                filtered_sentence_n.append(s) #for ngrams we need stemmed words\n",
    "                if(cleaned_words.lower() not in stop):\n",
    "                    filtered_sentence_b.append(s) #for BoW and tfidf we need stemmed and stop words removed data\n",
    "                    filtered_sentence_w.append(cleaned_words.lower().encode('utf8')) # for Word2Vec we need non stemmed and stop words removed data\n",
    "                else:\n",
    "                    continue\n",
    "            else:\n",
    "                continue \n",
    "    \n",
    "    \n",
    "    str_n = b\" \".join(filtered_sentence_n)\n",
    "    str_b = b\" \".join(filtered_sentence_b)\n",
    "    str_w = b\" \".join(filtered_sentence_w)\n",
    "    \n",
    "    bow_tfidf_string.append(str_b)\n",
    "    ngrams_string.append(str_n)\n",
    "    word2vec_string.append(str_w)\n",
    "\n",
    "    i+=1"
   ]
  },
  {
   "cell_type": "code",
   "execution_count": 11,
   "metadata": {},
   "outputs": [],
   "source": [
    "final['BowTfIDFText']=bow_tfidf_string \n",
    "final['BowTfIDFText']=final['BowTfIDFText'].str.decode(\"utf-8\")\n",
    "\n",
    "# final['nGramsText']=ngrams_string \n",
    "# final['nGramsText']=final['nGramsText'].str.decode(\"utf-8\")\n",
    "\n",
    "final['Word2VecText']=word2vec_string \n",
    "final['Word2VecText']=final['Word2VecText'].str.decode(\"utf-8\")"
   ]
  },
  {
   "cell_type": "code",
   "execution_count": 12,
   "metadata": {},
   "outputs": [],
   "source": [
    "# store final table into an SQlLite table for future.\n",
    "final_dbconn = sqlite3.connect('./amazon-fine-food-reviews/finaldb.sqlite')\n",
    "c=final_dbconn.cursor()\n",
    "final_dbconn.text_factory = str\n",
    "final.to_sql('Reviews', final_dbconn,  schema=None, if_exists='replace', index=True, index_label=None, chunksize=None, dtype=None)"
   ]
  },
  {
   "cell_type": "markdown",
   "metadata": {},
   "source": [
    "### Time Based Slicing\n",
    "The below function creates a cross validation dataset and fits the model. This will be used across BoW, tfIDF, Average Word2Vec and tfIDF Word2Vec"
   ]
  },
  {
   "cell_type": "code",
   "execution_count": 32,
   "metadata": {},
   "outputs": [],
   "source": [
    "def plot_confusion_matrix(cm, classes,\n",
    "                          normalize=False,\n",
    "                          title='Confusion matrix',\n",
    "                          figsize = (5,3),\n",
    "                          cmap=plt.cm.Blues):\n",
    "    \"\"\"\n",
    "    This function prints and plots the confusion matrix.\n",
    "    Normalization can be applied by setting `normalize=True`.\n",
    "    \"\"\"\n",
    "    if normalize:\n",
    "        cm = cm.astype('float') / cm.sum(axis=1)[:, np.newaxis]\n",
    "#         print(\"Normalized confusion matrix\")\n",
    "#     else:\n",
    "#         print('Confusion matrix, without normalization')\n",
    "\n",
    "#     print(cm)\n",
    "\n",
    "#     plt.figure(figsize=(4,2))\n",
    "    plt.figure(figsize=figsize)\n",
    "    plt.imshow(cm, interpolation='nearest', cmap=cmap)\n",
    "    plt.title(title)\n",
    "    plt.colorbar()\n",
    "    tick_marks = np.arange(len(classes))\n",
    "    plt.xticks(tick_marks, classes, rotation=45)\n",
    "    plt.yticks(tick_marks, classes)\n",
    "\n",
    "    fmt = '.2f' if normalize else 'd'\n",
    "    thresh = cm.max() / 2.\n",
    "    for i, j in itertools.product(range(cm.shape[0]), range(cm.shape[1])):\n",
    "        plt.text(j, i, format(cm[i, j], fmt),\n",
    "                 horizontalalignment=\"center\",\n",
    "                 color=\"white\" if cm[i, j] > thresh else \"black\")\n",
    "\n",
    "    plt.ylabel('True label')\n",
    "    plt.xlabel('Predicted label')\n",
    "    plt.tight_layout()\n",
    "    plt.show()\n",
    "    \n",
    "def fit_predict(estimator, X_train, y_train, X_test, y_test):\n",
    "    # fitting the model on crossvalidation train\n",
    "    estimator.fit(X_train, y_train)\n",
    "\n",
    "    # predict the response on the crossvalidation train\n",
    "    y_pred = estimator.predict(X_test)\n",
    "    \n",
    "    return y_pred"
   ]
  },
  {
   "cell_type": "markdown",
   "metadata": {},
   "source": [
    "### Run Classifier\n",
    "Given a dataset of X, y the below function\n",
    "1. Splits the dataset into train and test."
   ]
  },
  {
   "cell_type": "code",
   "execution_count": 33,
   "metadata": {},
   "outputs": [],
   "source": [
    "def split_data(data, sort_by_time='Y', test_size=0.3):\n",
    "    \n",
    "    if sort_by_time == 'Y':\n",
    "        data = data.sort_values(by='Time')\n",
    "        data.reset_index(inplace=True,drop=True)\n",
    "        \n",
    "    train_index = int(np.floor(data.shape[0] * (1- test_size)))\n",
    "\n",
    "    X_train = data.loc[:train_index]\n",
    "    y_train = X_train.Score\n",
    "    X_train.drop(['Score'], axis=1, inplace=True)\n",
    "    \n",
    "\n",
    "    X_test = data.loc[train_index:]\n",
    "    y_test = X_test.Score\n",
    "    X_test.drop(['Score'], axis=1, inplace=True)\n",
    "    \n",
    "    return X_train, y_train, X_test, y_test"
   ]
  },
  {
   "cell_type": "code",
   "execution_count": 34,
   "metadata": {},
   "outputs": [],
   "source": [
    "def plot_cv_scores(gridsearch, param, x_axis_label, y_axis_label, title):\n",
    "    X = [params[param] for params in gridsearch.cv_results_['params']]\n",
    "    y = [mean for mean in gridsearch.cv_results_['mean_test_score']]\n",
    "    \n",
    "    plt.plot(X, y)\n",
    "    plt.xlabel(x_axis_label)\n",
    "    plt.ylabel(y_axis_label)\n",
    "    \n",
    "    plt.title(title)\n",
    "    plt.grid() \n",
    "\n",
    "    plt.show()"
   ]
  },
  {
   "cell_type": "code",
   "execution_count": 35,
   "metadata": {},
   "outputs": [],
   "source": [
    "def plot_roc_curve(fpr, tpr, roc_auc, y_label, x_label):\n",
    "    plt.title('Receiver Operating Characteristic')\n",
    "    plt.plot(fpr, tpr, 'b', label = 'AUC = %0.2f' % roc_auc)\n",
    "    plt.legend(loc = 'lower right')\n",
    "    plt.plot([0, 1], [0, 1],'r--')\n",
    "    plt.xlim([0, 1])\n",
    "    plt.ylim([0, 1])\n",
    "    plt.ylabel(y_label)\n",
    "    plt.xlabel(x_label)\n",
    "    plt.show()"
   ]
  },
  {
   "cell_type": "code",
   "execution_count": 130,
   "metadata": {},
   "outputs": [],
   "source": [
    "def print_top_n_features(feature_name, feature_importance, top_n):\n",
    "    ex_dic = {\n",
    "    'FeatureName': feature_name,\n",
    "    'FeatureImp': feature_importance.tolist()\n",
    "    }\n",
    "\n",
    "    columns = ['FeatureName', 'FeatureImp']\n",
    "\n",
    "    df = pd.DataFrame(ex_dic, columns=columns)\n",
    "    df.sort_values(['FeatureImp'], ascending=False, inplace=True)\n",
    "    print ('Top {} features are: \\n {}'.format(top_n, df[0:top_n]))"
   ]
  },
  {
   "cell_type": "code",
   "execution_count": 133,
   "metadata": {},
   "outputs": [],
   "source": [
    "def fit_and_visualize_trees(model, feature_names, file_name='tree.png'):\n",
    "    export_graphviz(model, out_file=file_name)  \n",
    "        \n",
    "    # Visualize data\n",
    "    dot_data = export_graphviz(model, \n",
    "                                   feature_names=feature_names,\n",
    "                                   out_file=None,\n",
    "                                   filled=True,\n",
    "                                   rounded=True)\n",
    "    graph = pydotplus.graph_from_dot_data(dot_data)\n",
    "\n",
    "    colors = ('turquoise', 'orange')\n",
    "    edges = collections.defaultdict(list)\n",
    "\n",
    "    for edge in graph.get_edge_list():\n",
    "        edges[edge.get_source()].append(int(edge.get_destination()))\n",
    "\n",
    "    for edge in edges:\n",
    "        edges[edge].sort()    \n",
    "        for i in range(2):\n",
    "            dest = graph.get_node(str(edges[edge][i]))[0]\n",
    "            dest.set_fillcolor(colors[i])\n",
    "\n",
    "    graph.write_png(file_name)"
   ]
  },
  {
   "cell_type": "code",
   "execution_count": 66,
   "metadata": {},
   "outputs": [],
   "source": [
    "def do_paramSearch(model, param_grid, type_of_search, X_train, y_train, X_test, y_test, cv):\n",
    "    if type_of_search not in ['GridSearch', 'RandomSearch']:\n",
    "        print ('Allowed searches are GridSearch and RandomSearch')\n",
    "        return\n",
    "    \n",
    "    #Use TimeSeriesSplit for cross validation\n",
    "    tscv = TimeSeriesSplit(n_splits=cv)\n",
    "    \n",
    "    train_test_split = tscv.split(X_train)\n",
    "\n",
    "    f1_scorer = make_scorer(f1_score, pos_label='positive')\n",
    "    if type_of_search == 'GridSearch':\n",
    "        gs = GridSearchCV(model, param_grid, cv = train_test_split, n_jobs=-1,verbose=5, scoring=f1_scorer)\n",
    "    elif type_of_search == 'RandomSearch':\n",
    "        gs = RandomizedSearchCV(model, param_grid, cv = train_test_split, n_jobs=-1,verbose=5, scoring=f1_scorer)\n",
    "               \n",
    "    gs.fit(X_train, y_train)\n",
    "    \n",
    "    print ('Calculating best score from grid search...')\n",
    "    print ('Best score: ', gs.best_score_)\n",
    "\n",
    "    print ('Best parameters set:')\n",
    "    best_parameters = gs.best_estimator_.get_params()\n",
    "    for param_name in sorted(param_grid.keys()):\n",
    "        print (param_name, best_parameters[param_name])\n",
    "        if param_name == 'max_depth':\n",
    "            depth=best_parameters[param_name]\n",
    "        \n",
    "    plot_cv_scores(gridsearch=gs, param='max_depth', x_axis_label='Max Depth', y_axis_label='F1 Scores',\\\n",
    "                   title='Plot of CV F1 Scores')\n",
    "\n",
    "    print ('Dimensions of X_test is {} and y_test is {}'.format (X_test.shape, y_test.shape))\n",
    "    print ('Predicting with X_test.....')\n",
    "    y_pred = gs.predict(X_test)\n",
    "\n",
    "    print ('Classification report is .....')\n",
    "    print (classification_report(y_test, y_pred))\n",
    "    \n",
    "    print ('Confusion Matrix is .....')\n",
    "    cm = confusion_matrix(y_test, y_pred)\n",
    "    plot_confusion_matrix(cm, ['Negative', 'Positive'])\n",
    "    \n",
    "    return depth\n",
    "    \n",
    "#     #Calculate probabilities to use to plot roc curve\n",
    "#     y_pred = gs.predict_proba(X_test)\n",
    "\n",
    "#     #keep probability for the positive outcome only\n",
    "#     y_pred = y_pred[:, 1]\n",
    "\n",
    "    # calculate the fpr and tpr for all thresholds of the classification\n",
    "#     fpr, tpr, threshold = roc_curve(y_test, y_pred, pos_label='positive')\n",
    "\n",
    "#     roc_auc = auc(fpr, tpr)\n",
    "#     print ('ROC Curve is .....')\n",
    "\n",
    "#     y_label= 'True Positive Rate'\n",
    "#     x_label='False Positive Rate'\n",
    "\n",
    "#     plot_roc_curve(fpr, tpr, roc_auc, y_label, x_label)"
   ]
  },
  {
   "cell_type": "code",
   "execution_count": 148,
   "metadata": {},
   "outputs": [],
   "source": [
    "def run_classifier(data, vectorize_technique, k=5):\n",
    "    if vectorize_technique not in ['bow', 'tfidf', 'Gavgw2v', 'Gtfidfw2v', 'Oavgw2v', 'Otfidfw2v']:\n",
    "        print ('Allowed vectorization techniques are Bag Of Words(bow), TF-IDF(tfidf), \\\n",
    "                Average Word2Vec Using Google vectors(Gavgw2v), TF-IDF Word2Vec Using Google vectors(Gtfidfw2v), \\\n",
    "                Average Word2Vec Using Own Model(Oavgw2v), TF-IDF Word2Vec Using Own Model(Otfidfw2v)')\n",
    "        return\n",
    "    \n",
    "    \n",
    "    X_train, y_train, X_test, y_test = split_data(data, sort_by_time='Y')\n",
    "    \n",
    "    #Create X_train with just the vectors\n",
    "    if vectorize_technique == 'bow':\n",
    "        X_train, X_test, vectorizer = vectorize_bow(X_train, X_test)\n",
    "    elif vectorize_technique == 'tfidf':\n",
    "        X_train, X_test, vectorizer = vectorize_tfidf(X_train, X_test)\n",
    "    elif vectorize_technique == 'Gavgw2v':\n",
    "        X_train, X_test = vectorize_Gavgw2v(X_train, X_test)\n",
    "    elif vectorize_technique == 'Gtfidfw2v':\n",
    "        X_train, X_test = vectorize_Gavgw2v(X_train, X_test)\n",
    "    elif vectorize_technique == 'Oavgw2v':\n",
    "        X_train, X_test = vectorize_Oavgw2v(X_train, X_test)\n",
    "    elif vectorize_technique == 'Otfidfw2v':\n",
    "        X_train, X_test = vectorize_Otfidfw2v(X_train, X_test)\n",
    "        \n",
    "    cv = 10\n",
    "#     #As C increases it will overfit\n",
    "#     Cs = [2**-5, 2**-3, 2**-1, 2**1, 2**3, 2**5]\n",
    "    \n",
    "#     #gamma = 1/sigma. As sigma increases it will underfit. So as gamma increases it will overfit.\n",
    "#     gammas = [2**-5, 2**-3, 2**-1, 2**1, 2**3, 2**5]\n",
    "            \n",
    "    max_depths = [5, 6, 7, 8, 9, 10, 11, 12, 13, 14]\n",
    "    \n",
    "    sp.random.seed(123345)\n",
    "    uniform_Cs=sp.random.uniform(low=10**0,high=10**2,size=4)\n",
    "    uniform_gammas=sp.random.uniform(low=10**-7,high=10**-2,size=4)\n",
    "#     search_types = ['GridSearch', 'RandomSearch']\n",
    "    search_types = ['GridSearch']\n",
    "    \n",
    "    for search_type in search_types:\n",
    "        if vectorize_technique in ('bow', 'tfidf'):\n",
    "            max_features = int(X_train.shape[1]/2)\n",
    "        else:\n",
    "            max_features = None\n",
    "        print ('Max features are {}'.format(max_features))\n",
    "        \n",
    "        model = DecisionTreeClassifier(max_features=max_features)\n",
    "    \n",
    "        if search_type == 'GridSearch':\n",
    "            #Do GridSearch\n",
    "            param_grid = {'max_depth': max_depths}\n",
    "#         else:\n",
    "#             #Do RandomSearch\n",
    "# #             param_grid = {'C': uniform_Cs, 'gamma': uniform_gammas}\n",
    "#             param_grid = {'C': Cs, 'gamma': gammas}\n",
    "        \n",
    "        print ('\\nDoing {} .....'.format(search_type))\n",
    "        print ('-' *80)\n",
    "        depth = do_paramSearch(model, param_grid, search_type, X_train, y_train, X_test, y_test, cv)\n",
    "        \n",
    "        if vectorize_technique in ('bow', 'tfidf'):\n",
    "            dt_clf = DecisionTreeClassifier(max_depth=depth)\n",
    "            dt_clf = dt_clf.fit(X_train, y_train)\n",
    "            file_name = vectorize_technique + '-' + search_type + '-' +'tree.png'\n",
    "            feature_names = vectorizer.get_feature_names()\n",
    "\n",
    "            fit_and_visualize_trees(dt_clf, feature_names, file_name=file_name)\n",
    "\n",
    "            print_top_n_features(feature_names, dt_clf.feature_importances_, 10)"
   ]
  },
  {
   "cell_type": "markdown",
   "metadata": {},
   "source": [
    "## Bag of Words"
   ]
  },
  {
   "cell_type": "code",
   "execution_count": 52,
   "metadata": {},
   "outputs": [],
   "source": [
    "def get_bow_tfidfdata(no_of_records = 2000, split_evenly=True):\n",
    "    if split_evenly:\n",
    "        pos_limit = int(no_of_records * 0.50)\n",
    "        neg_limit = no_of_records - pos_limit\n",
    "    else:\n",
    "    #The original dataset has approximately 85% positive reviews and 15% negative reviews, so we will use the same % to make\n",
    "    #a subset \n",
    "        pos_limit = int(no_of_records * 0.85)\n",
    "        neg_limit = no_of_records - pos_limit\n",
    "\n",
    "    final_dbconn = sqlite3.connect('./amazon-fine-food-reviews/finaldb.sqlite')\n",
    "    final_dbconn.text_factory = str\n",
    "\n",
    "    pos_qry = \"SELECT time, BowTfIDFText, Score FROM Reviews where Score = 'positive' LIMIT \" + str(pos_limit)\n",
    "    pos_reviews = pd.read_sql_query(pos_qry, final_dbconn) \n",
    "    print('Positive reviews shape is {}'.format(pos_reviews.shape))\n",
    "\n",
    "    neg_qry = \"SELECT time, BowTfIDFText, Score FROM Reviews where Score = 'negative' LIMIT \" + str(neg_limit)\n",
    "    neg_reviews = pd.read_sql_query(neg_qry, final_dbconn) \n",
    "    print('Negative reviews shape is {}'.format(neg_reviews.shape))\n",
    "\n",
    "    frames = [pos_reviews, neg_reviews]\n",
    "\n",
    "    data = pd.concat(frames, ignore_index=True)\n",
    "    print('Both positive and negative reviews combined together contains {} reviews'.format(data.shape[0]))\n",
    "    return data"
   ]
  },
  {
   "cell_type": "code",
   "execution_count": 53,
   "metadata": {},
   "outputs": [],
   "source": [
    "def run_svd(X_train_cnts, X_test_cnts, reduce_to):\n",
    "    svd = TruncatedSVD(n_components=reduce_to)\n",
    "\n",
    "    print ('Shape of X train cnts before SVD is {}'.format(X_train_cnts.shape))\n",
    "    X_train_red = svd.fit_transform(X_train_cnts)\n",
    "    print ('Shape of X train cnts after SVD is {}'.format(X_train_red.shape))\n",
    "    explained_ratio = svd.explained_variance_ratio_\n",
    "    print ('The explained ratio with {} components is {}'.format(reduce_to, np.sum(explained_ratio)))\n",
    "    \n",
    "    X_test_red = svd.fit_transform(X_test_cnts)\n",
    "    return X_train_red, X_test_red\n",
    "\n",
    "def vectorize_bow(X_train, X_test):\n",
    "    #Vectorize the reviews\n",
    "    count_vect = CountVectorizer() \n",
    "    \n",
    "    #Build vocabulary from X_train\n",
    "    X_train_counts = count_vect.fit_transform(X_train['BowTfIDFText'].values)\n",
    "    X_test_counts = count_vect.transform(X_test['BowTfIDFText'].values)\n",
    "    \n",
    "    print(\"Shape of vectorized train and test datasets are {} and {}\".format(X_train_counts.get_shape(), X_test_counts.get_shape()) )\n",
    "    print(\"Number of unique words in the dataset is \", X_train_counts.get_shape()[1])\n",
    "    print ('Type of bow_counts ', type(X_train_counts))\n",
    "    \n",
    "    X_train_std_data = StandardScaler(with_mean = False).fit_transform(X_train_counts)\n",
    "    print ('Type of std_bow_data is {}'.format(type(X_train_std_data)))\n",
    "    print ('Standardized Bag of Words review contains {} records with {} features each'.format(*X_train_std_data.shape))\n",
    "\n",
    "    #vectorize the test set with the same vocabulary as train data set\n",
    "    print(\"The shape of our BOW vectorized test dataset is {}\".format(X_test_counts.get_shape()))\n",
    "\n",
    "    X_test_std_data = StandardScaler(with_mean = False).fit_transform(X_test_counts)\n",
    "    return X_train_std_data, X_test_std_data, count_vect"
   ]
  },
  {
   "cell_type": "code",
   "execution_count": 141,
   "metadata": {},
   "outputs": [
    {
     "name": "stdout",
     "output_type": "stream",
     "text": [
      "18:14:13\n",
      "Positive reviews shape is (25000, 3)\n",
      "Negative reviews shape is (25000, 3)\n",
      "Both positive and negative reviews combined together contains 50000 reviews\n",
      "Shape of vectorized train and test datasets are (35001, 25015) and (15000, 25015)\n",
      "Number of unique words in the dataset is  25015\n",
      "Type of bow_counts  <class 'scipy.sparse.csr.csr_matrix'>\n",
      "Type of std_bow_data is <class 'scipy.sparse.csr.csr_matrix'>\n",
      "Standardized Bag of Words review contains 35001 records with 25015 features each\n",
      "The shape of our BOW vectorized test dataset is (15000, 25015)\n",
      "Max features are 12507\n",
      "\n",
      "Doing GridSearch .....\n",
      "--------------------------------------------------------------------------------\n",
      "Fitting 10 folds for each of 10 candidates, totalling 100 fits\n"
     ]
    },
    {
     "name": "stderr",
     "output_type": "stream",
     "text": [
      "[Parallel(n_jobs=-1)]: Done   2 tasks      | elapsed:    1.3s\n",
      "[Parallel(n_jobs=-1)]: Done  56 tasks      | elapsed:   13.7s\n",
      "[Parallel(n_jobs=-1)]: Done 100 out of 100 | elapsed:   26.5s finished\n"
     ]
    },
    {
     "name": "stdout",
     "output_type": "stream",
     "text": [
      "Calculating best score from grid search...\n",
      "Best score:  0.7122123044264468\n",
      "Best parameters set:\n",
      "max_depth 14\n"
     ]
    },
    {
     "data": {
      "image/png": "[encoded data removed]",
      "text/plain": [
       "<Figure size 432x288 with 1 Axes>"
      ]
     },
     "metadata": {},
     "output_type": "display_data"
    },
    {
     "name": "stdout",
     "output_type": "stream",
     "text": [
      "Dimensions of X_test is (15000, 25015) and y_test is (15000,)\n",
      "Predicting with X_test.....\n",
      "Classification report is .....\n",
      "             precision    recall  f1-score   support\n",
      "\n",
      "   negative       0.76      0.76      0.76      8253\n",
      "   positive       0.71      0.70      0.70      6747\n",
      "\n",
      "avg / total       0.73      0.73      0.73     15000\n",
      "\n",
      "Confusion Matrix is .....\n"
     ]
    },
    {
     "data": {
      "image/png": "[encoded data removed]",
      "text/plain": [
       "<Figure size 360x216 with 2 Axes>"
      ]
     },
     "metadata": {},
     "output_type": "display_data"
    },
    {
     "name": "stdout",
     "output_type": "stream",
     "text": [
      "dot: graph is too large for cairo-renderer bitmaps. Scaling by 0.895518 to fit\n",
      "\n",
      "Top 10 features are: \n",
      "       FeatureName  FeatureImp\n",
      "9314        great    0.109501\n",
      "1980         best    0.087737\n",
      "6091   disappoint    0.085916\n",
      "12729        love    0.070279\n",
      "5643       delici    0.044986\n",
      "21635        tast    0.035445\n",
      "7410        excel    0.032222\n",
      "13983       money    0.031370\n",
      "16137     perfect    0.028153\n",
      "1494          bad    0.025591\n",
      "18:15:24\n"
     ]
    }
   ],
   "source": [
    "# no_of_records=364171\n",
    "no_of_records=50000\n",
    "print (format(datetime.now(), '%H:%M:%S'))\n",
    "data = get_bow_tfidfdata(no_of_records)\n",
    "run_classifier(data, vectorize_technique ='bow')\n",
    "ist = datetime.now()\n",
    "print (format(ist, '%H:%M:%S'))"
   ]
  },
  {
   "cell_type": "markdown",
   "metadata": {},
   "source": [
    "## TF-IDF"
   ]
  },
  {
   "cell_type": "code",
   "execution_count": 137,
   "metadata": {},
   "outputs": [],
   "source": [
    "def vectorize_tfidf(X_train, X_test):\n",
    "    #Vectorize the reviews\n",
    "    tf_idf_vect = TfidfVectorizer(ngram_range=(1,2))\n",
    "    \n",
    "    #Build vocabulary from X_train\n",
    "    X_train_counts = tf_idf_vect.fit_transform(X_train['BowTfIDFText'].values)\n",
    "    X_test_counts = tf_idf_vect.transform(X_test['BowTfIDFText'].values)\n",
    "    \n",
    "    print(\"Shape of vectorized train and test datasets are {} and {}\".format(X_train_counts.get_shape(), X_test_counts.get_shape()) )\n",
    "    print(\"Number of unique words in the dataset is \", X_train_counts.get_shape()[1])\n",
    "    print ('Type of bow_counts ', type(X_train_counts))\n",
    "    \n",
    "    X_train_std_data = StandardScaler(with_mean = False).fit_transform(X_train_counts)\n",
    "    print ('Type of std_bow_data is {}'.format(type(X_train_std_data)))\n",
    "    print ('Standardized Bag of Words review contains {} with {} features each'.format(*X_train_std_data.shape))\n",
    "    \n",
    "    #vectorize the test set with the same vocabulary as train data set\n",
    "    print(\"The shape of vectorized test dataset is {}\".format(X_test_counts.get_shape()))\n",
    "    \n",
    "    X_test_std_data = StandardScaler(with_mean = False).fit_transform(X_test_counts)\n",
    "    return X_train_std_data, X_test_std_data, tf_idf_vect"
   ]
  },
  {
   "cell_type": "code",
   "execution_count": 142,
   "metadata": {},
   "outputs": [
    {
     "name": "stdout",
     "output_type": "stream",
     "text": [
      "18:15:44\n",
      "Positive reviews shape is (25000, 3)\n",
      "Negative reviews shape is (25000, 3)\n",
      "Both positive and negative reviews combined together contains 50000 reviews\n",
      "Shape of vectorized train and test datasets are (35001, 637804) and (15000, 637804)\n",
      "Number of unique words in the dataset is  637804\n",
      "Type of bow_counts  <class 'scipy.sparse.csr.csr_matrix'>\n",
      "Type of std_bow_data is <class 'scipy.sparse.csr.csr_matrix'>\n",
      "Standardized Bag of Words review contains 35001 with 637804 features each\n",
      "The shape of vectorized test dataset is (15000, 637804)\n",
      "Max features are 318902\n",
      "\n",
      "Doing GridSearch .....\n",
      "--------------------------------------------------------------------------------\n",
      "Fitting 10 folds for each of 10 candidates, totalling 100 fits\n"
     ]
    },
    {
     "name": "stderr",
     "output_type": "stream",
     "text": [
      "[Parallel(n_jobs=-1)]: Done   2 tasks      | elapsed:    5.5s\n",
      "[Parallel(n_jobs=-1)]: Done  56 tasks      | elapsed:  4.4min\n",
      "[Parallel(n_jobs=-1)]: Done 100 out of 100 | elapsed:  9.8min finished\n"
     ]
    },
    {
     "name": "stdout",
     "output_type": "stream",
     "text": [
      "Calculating best score from grid search...\n",
      "Best score:  0.7160461151410078\n",
      "Best parameters set:\n",
      "max_depth 13\n"
     ]
    },
    {
     "data": {
      "image/png": "[encoded data removed]",
      "text/plain": [
       "<Figure size 432x288 with 1 Axes>"
      ]
     },
     "metadata": {},
     "output_type": "display_data"
    },
    {
     "name": "stdout",
     "output_type": "stream",
     "text": [
      "Dimensions of X_test is (15000, 637804) and y_test is (15000,)\n",
      "Predicting with X_test.....\n",
      "Classification report is .....\n",
      "             precision    recall  f1-score   support\n",
      "\n",
      "   negative       0.74      0.82      0.78      8253\n",
      "   positive       0.74      0.64      0.69      6747\n",
      "\n",
      "avg / total       0.74      0.74      0.74     15000\n",
      "\n",
      "Confusion Matrix is .....\n"
     ]
    },
    {
     "data": {
      "image/png": "[encoded data removed]",
      "text/plain": [
       "<Figure size 360x216 with 2 Axes>"
      ]
     },
     "metadata": {},
     "output_type": "display_data"
    },
    {
     "name": "stdout",
     "output_type": "stream",
     "text": [
      "Top 10 features are: \n",
      "            FeatureName  FeatureImp\n",
      "245534           great    0.124451\n",
      "49606             best    0.100783\n",
      "155540      disappoint    0.093433\n",
      "327728            love    0.087028\n",
      "145395          delici    0.047612\n",
      "553043            tast    0.045248\n",
      "356914           money    0.039223\n",
      "264069  high recommend    0.032738\n",
      "188794           excel    0.028960\n",
      "407360         perfect    0.028770\n",
      "18:26:14\n"
     ]
    }
   ],
   "source": [
    "no_of_records=50000\n",
    "print (format(datetime.now(), '%H:%M:%S'))\n",
    "data = get_bow_tfidfdata(no_of_records)\n",
    "run_classifier(data, vectorize_technique ='tfidf')\n",
    "ist = datetime.now()\n",
    "print (format(ist, '%H:%M:%S'))"
   ]
  },
  {
   "cell_type": "markdown",
   "metadata": {},
   "source": [
    "## Word2Vec\n",
    "There are 2 ways to do word2vec\n",
    "1. Use Google's model which was built using Google's news dataset. Since this was built from a large dataset, this gives us a 300 dimension vector which will be richer.\n",
    "2. Train our own model. Since we have a small dataset, we can build a 50 dimensional vector with this.\n",
    "We will try both ways below\n",
    "\n",
    "As a first step we need to build a list of sentence from the Word2VecText we have saved earlier. This will be used to get the vectors from Google's model as well as the one that we are going to build"
   ]
  },
  {
   "cell_type": "code",
   "execution_count": 143,
   "metadata": {},
   "outputs": [],
   "source": [
    "def get_w2vdata(no_of_records = 2000, split_evenly=True):\n",
    "    if split_evenly:\n",
    "        pos_limit = int(no_of_records * 0.50)\n",
    "        neg_limit = no_of_records - pos_limit\n",
    "    else:\n",
    "    #The original dataset has approximately 85% positive reviews and 15% negative reviews, so we will use the same % to make\n",
    "    #a subset \n",
    "        pos_limit = int(no_of_records * 0.85)\n",
    "        neg_limit = no_of_records - pos_limit\n",
    "\n",
    "    final_dbconn = sqlite3.connect('./amazon-fine-food-reviews/finaldb.sqlite')\n",
    "    final_dbconn.text_factory = str\n",
    "\n",
    "    pos_qry = \"SELECT time, Word2VecText, Score FROM Reviews where Score = 'positive' LIMIT \" + str(pos_limit)\n",
    "    pos_reviews = pd.read_sql_query(pos_qry, final_dbconn) \n",
    "    print('Positive reviews shape is {}'.format(pos_reviews.shape))\n",
    "\n",
    "    neg_qry = \"SELECT time, Word2VecText, Score FROM Reviews where Score = 'negative' LIMIT \" + str(neg_limit)\n",
    "    neg_reviews = pd.read_sql_query(neg_qry, final_dbconn) \n",
    "    print('Negative reviews shape is {}'.format(neg_reviews.shape))\n",
    "\n",
    "    frames = [pos_reviews, neg_reviews]\n",
    "\n",
    "    data = pd.concat(frames, ignore_index=True)\n",
    "    print('Both positive and negative reviews combined together contains {} reviews'.format(data.shape[0]))\n",
    "\n",
    "    return data"
   ]
  },
  {
   "cell_type": "markdown",
   "metadata": {},
   "source": [
    "#### Train our own Word2Vec model"
   ]
  },
  {
   "cell_type": "code",
   "execution_count": 144,
   "metadata": {},
   "outputs": [],
   "source": [
    "def build_word2vec(train_list_of_sent):\n",
    "    # Train your own Word2Vec model using your own text corpus\n",
    "    w2v_model=Word2Vec(train_list_of_sent,min_count=5,size=50, workers=4)\n",
    "\n",
    "    w2v_words = list(w2v_model.wv.vocab)\n",
    "    return w2v_model, w2v_words"
   ]
  },
  {
   "cell_type": "markdown",
   "metadata": {},
   "source": [
    "#### Average Word2Vec With our own model"
   ]
  },
  {
   "cell_type": "code",
   "execution_count": 145,
   "metadata": {},
   "outputs": [],
   "source": [
    "def vectorize_Oavgw2v(X_train, X_test):\n",
    "    train_list_of_sent=[]\n",
    "    test_list_of_sent=[]\n",
    "    print ('Splitting train data into sentences.....')\n",
    "    for sent in X_train['Word2VecText'].values:\n",
    "        train_list_of_sent.append(sent.split())\n",
    "    \n",
    "    print ('Splitting test data into sentences.....')\n",
    "    for sent in X_test['Word2VecText'].values:\n",
    "        test_list_of_sent.append(sent.split())\n",
    "        \n",
    "    print ('Building our word model.....')\n",
    "    w2v_model, w2v_words = build_word2vec(train_list_of_sent)\n",
    "\n",
    "    print ('Vectorizing train data.....')\n",
    "    print('Starting vectorizing at {}'. format(datetime.now()))\n",
    "    \n",
    "    train_sent_vectors = []; # the avg-w2v for each sentence/review is stored in this list\n",
    "    for sent in train_list_of_sent: # for each review/sentence\n",
    "        sent_vec = np.zeros(50) # as word vectors are of zero length\n",
    "        cnt_words =0; # num of words with a valid vector in the sentence/review\n",
    "        for word in sent: # for each word in a review/sentence\n",
    "            if word in w2v_words:\n",
    "                vec = w2v_model.wv[word]\n",
    "                sent_vec += vec\n",
    "                cnt_words += 1\n",
    "        if cnt_words != 0:\n",
    "            sent_vec /= cnt_words\n",
    "        train_sent_vectors.append(sent_vec)\n",
    "\n",
    "    print ('Vectorizing test data.....')\n",
    "    print('Starting vectorizing at {}'. format(datetime.now()))\n",
    "    test_sent_vectors = []; # the avg-w2v for each sentence/review is stored in this list\n",
    "    for sent in test_list_of_sent: # for each review/sentence\n",
    "        sent_vec = np.zeros(50) # as word vectors are of zero length\n",
    "        cnt_words =0; # num of words with a valid vector in the sentence/review\n",
    "        for word in sent: # for each word in a review/sentence\n",
    "            if word in w2v_words:\n",
    "                vec = w2v_model.wv[word]\n",
    "                sent_vec += vec\n",
    "                cnt_words += 1\n",
    "        if cnt_words != 0:\n",
    "            sent_vec /= cnt_words\n",
    "        test_sent_vectors.append(sent_vec)\n",
    "    print('Completed vectorizing at {}'. format(datetime.now()))\n",
    "    \n",
    "    #convert to sparse matrix\n",
    "    X_train_counts = sparse.csr_matrix(np.array(train_sent_vectors))\n",
    "    X_test_counts = sparse.csr_matrix(np.array(test_sent_vectors))\n",
    "        \n",
    "    X_train_std_data = StandardScaler(with_mean = False).fit_transform(X_train_counts)\n",
    "    print ('Type of std_bow_data is {}'.format(type(X_train_std_data)))\n",
    "    print ('Standardized reviews contain {} with {} features each'.format(*X_train_std_data.shape))\n",
    "    \n",
    "    #vectorize the test set with the same vocabulary as train data set\n",
    "    print(\"The shape of vectorized test dataset is {}\".format(X_test_counts.get_shape()))\n",
    "    \n",
    "    X_test_std_data = StandardScaler(with_mean = False).fit_transform(X_test_counts)\n",
    "    return X_train_std_data, X_test_std_data"
   ]
  },
  {
   "cell_type": "code",
   "execution_count": 150,
   "metadata": {
    "scrolled": true
   },
   "outputs": [
    {
     "name": "stdout",
     "output_type": "stream",
     "text": [
      "18:37:09\n",
      "Positive reviews shape is (50000, 3)\n",
      "Negative reviews shape is (50000, 3)\n",
      "Both positive and negative reviews combined together contains 100000 reviews\n",
      "Splitting train data into sentences.....\n",
      "Splitting test data into sentences.....\n",
      "Building our word model.....\n",
      "Vectorizing train data.....\n",
      "Starting vectorizing at 2018-11-01 18:37:18.225387\n",
      "Vectorizing test data.....\n",
      "Starting vectorizing at 2018-11-01 18:39:28.087026\n",
      "Completed vectorizing at 2018-11-01 18:40:17.595870\n",
      "Type of std_bow_data is <class 'scipy.sparse.csr.csr_matrix'>\n",
      "Standardized reviews contain 70001 with 50 features each\n",
      "The shape of vectorized test dataset is (30000, 50)\n",
      "Max features are None\n",
      "\n",
      "Doing GridSearch .....\n",
      "--------------------------------------------------------------------------------\n",
      "Fitting 10 folds for each of 10 candidates, totalling 100 fits\n"
     ]
    },
    {
     "name": "stderr",
     "output_type": "stream",
     "text": [
      "[Parallel(n_jobs=-1)]: Done   2 tasks      | elapsed:    2.2s\n",
      "[Parallel(n_jobs=-1)]: Done  56 tasks      | elapsed:   37.4s\n",
      "[Parallel(n_jobs=-1)]: Done 100 out of 100 | elapsed:  1.7min finished\n"
     ]
    },
    {
     "name": "stdout",
     "output_type": "stream",
     "text": [
      "Calculating best score from grid search...\n",
      "Best score:  0.7791195791881378\n",
      "Best parameters set:\n",
      "max_depth 8\n"
     ]
    },
    {
     "data": {
      "image/png": "[encoded data removed]",
      "text/plain": [
       "<Figure size 432x288 with 1 Axes>"
      ]
     },
     "metadata": {},
     "output_type": "display_data"
    },
    {
     "name": "stdout",
     "output_type": "stream",
     "text": [
      "Dimensions of X_test is (30000, 50) and y_test is (30000,)\n",
      "Predicting with X_test.....\n",
      "Classification report is .....\n",
      "             precision    recall  f1-score   support\n",
      "\n",
      "   negative       0.85      0.77      0.81     18875\n",
      "   positive       0.67      0.76      0.71     11125\n",
      "\n",
      "avg / total       0.78      0.77      0.77     30000\n",
      "\n",
      "Confusion Matrix is .....\n"
     ]
    },
    {
     "data": {
      "image/png": "[encoded data removed]",
      "text/plain": [
       "<Figure size 360x216 with 2 Axes>"
      ]
     },
     "metadata": {},
     "output_type": "display_data"
    },
    {
     "name": "stdout",
     "output_type": "stream",
     "text": [
      "18:42:07\n"
     ]
    }
   ],
   "source": [
    "# no_of_records=364171\n",
    "no_of_records=100000\n",
    "\n",
    "print (format(datetime.now(), '%H:%M:%S'))\n",
    "data = get_w2vdata(no_of_records)\n",
    "run_classifier(data, vectorize_technique ='Oavgw2v')\n",
    "ist = datetime.now()\n",
    "print (format(ist, '%H:%M:%S'))"
   ]
  },
  {
   "cell_type": "markdown",
   "metadata": {},
   "source": [
    "#### TF-IDF weighted Word2Vec With our own model"
   ]
  },
  {
   "cell_type": "code",
   "execution_count": 151,
   "metadata": {},
   "outputs": [],
   "source": [
    "def vectorize_Otfidfw2v(X_train, X_test):\n",
    "    # TF-IDF weighted Word2Vec\n",
    "    tf_idf_vect = TfidfVectorizer(ngram_range=(1,2))\n",
    "    tf_idf_counts = tf_idf_vect.fit_transform(X_train['Word2VecText'].values)\n",
    "    \n",
    "    # we are converting a dictionary with word as a key, and the idf as a value\n",
    "    dictionary = dict(zip(tf_idf_vect.get_feature_names(), list(tf_idf_vect.idf_)))\n",
    "\n",
    "\n",
    "    tfidf_feat = tf_idf_vect.get_feature_names() \n",
    "    \n",
    "    train_list_of_sent=[]\n",
    "    test_list_of_sent=[]\n",
    "    print ('Splitting train data into sentences.....')\n",
    "    for sent in X_train['Word2VecText'].values:\n",
    "        train_list_of_sent.append(sent.split())\n",
    "    \n",
    "    print ('Splitting test data into sentences.....')\n",
    "    for sent in X_test['Word2VecText'].values:\n",
    "        test_list_of_sent.append(sent.split())\n",
    "        \n",
    "    print ('Building our word model.....')\n",
    "    w2v_model, w2v_words = build_word2vec(train_list_of_sent)\n",
    "    \n",
    "    print ('Vectorizing train data.....')\n",
    "    train_sent_vectors = []; # the tfidf-w2v for each sentence/review is stored in this list\n",
    "    row=0;\n",
    "    for sent in train_list_of_sent: # for each review/sentence \n",
    "        sent_vec = np.zeros(50) # as word vectors are of zero length\n",
    "        weight_sum =0; # num of words with a valid vector in the sentence/review\n",
    "        for word in sent: # for each word in a review/sentence\n",
    "            if word in w2v_words:\n",
    "                vec = w2v_model.wv[word]\n",
    "                # obtain the tf_idfidf of a word in a sentence/review\n",
    "#                 tf_idf = tf_idf_counts[row, tfidf_feat.index(word)]\n",
    "                tf_idf = dictionary[word]*sent.count(word)\n",
    "                sent_vec += (vec * tf_idf)\n",
    "                weight_sum += tf_idf\n",
    "        if weight_sum != 0:\n",
    "            sent_vec /= weight_sum\n",
    "        train_sent_vectors.append(sent_vec)\n",
    "        row += 1\n",
    "\n",
    "    print ('Vectorizing test data.....')\n",
    "    test_sent_vectors = []; # the tfidf-w2v for each sentence/review is stored in this list\n",
    "    row=0;\n",
    "    for sent in test_list_of_sent: # for each review/sentence \n",
    "        sent_vec = np.zeros(50) # as word vectors are of zero length\n",
    "        weight_sum =0; # num of words with a valid vector in the sentence/review\n",
    "        for word in sent: # for each word in a review/sentence\n",
    "            if word in w2v_words:\n",
    "                vec = w2v_model.wv[word]\n",
    "                # obtain the tf_idfidf of a word in a sentence/review\n",
    "#                 tf_idf = tf_idf_counts[row, tfidf_feat.index(word)]\n",
    "                tf_idf = dictionary[word]*sent.count(word)\n",
    "                sent_vec += (vec * tf_idf)\n",
    "                weight_sum += tf_idf\n",
    "        if weight_sum != 0:\n",
    "            sent_vec /= weight_sum\n",
    "        test_sent_vectors.append(sent_vec)\n",
    "        row += 1\n",
    "\n",
    "    X_train_counts = sparse.csr_matrix(np.array(train_sent_vectors))\n",
    "    X_test_counts = sparse.csr_matrix(np.array(test_sent_vectors))\n",
    "        \n",
    "    X_train_std_data = StandardScaler(with_mean = False).fit_transform(X_train_counts)\n",
    "    print ('Type of std_bow_data is {}'.format(type(X_train_std_data)))\n",
    "    print ('Standardized reviews contain {} with {} features each'.format(*X_train_std_data.shape))\n",
    "    \n",
    "    #vectorize the test set with the same vocabulary as train data set\n",
    "    print(\"The shape of vectorized test dataset is {}\".format(X_test_counts.get_shape()))\n",
    "    \n",
    "    X_test_std_data = StandardScaler(with_mean = False).fit_transform(X_test_counts)\n",
    "    return X_train_std_data, X_test_std_data"
   ]
  },
  {
   "cell_type": "code",
   "execution_count": 152,
   "metadata": {},
   "outputs": [
    {
     "name": "stdout",
     "output_type": "stream",
     "text": [
      "18:42:36\n",
      "Positive reviews shape is (50000, 3)\n",
      "Negative reviews shape is (50000, 3)\n",
      "Both positive and negative reviews combined together contains 100000 reviews\n",
      "Splitting train data into sentences.....\n",
      "Splitting test data into sentences.....\n",
      "Building our word model.....\n",
      "Vectorizing train data.....\n",
      "Vectorizing test data.....\n",
      "Type of std_bow_data is <class 'scipy.sparse.csr.csr_matrix'>\n",
      "Standardized reviews contain 70001 with 50 features each\n",
      "The shape of vectorized test dataset is (30000, 50)\n",
      "Max features are None\n",
      "\n",
      "Doing GridSearch .....\n",
      "--------------------------------------------------------------------------------\n",
      "Fitting 10 folds for each of 10 candidates, totalling 100 fits\n"
     ]
    },
    {
     "name": "stderr",
     "output_type": "stream",
     "text": [
      "[Parallel(n_jobs=-1)]: Done   2 tasks      | elapsed:    1.7s\n",
      "[Parallel(n_jobs=-1)]: Done  56 tasks      | elapsed:   33.8s\n",
      "[Parallel(n_jobs=-1)]: Done 100 out of 100 | elapsed:  1.5min finished\n"
     ]
    },
    {
     "name": "stdout",
     "output_type": "stream",
     "text": [
      "Calculating best score from grid search...\n",
      "Best score:  0.7522766439320797\n",
      "Best parameters set:\n",
      "max_depth 8\n"
     ]
    },
    {
     "data": {
      "image/png": "[encoded data removed]",
      "text/plain": [
       "<Figure size 432x288 with 1 Axes>"
      ]
     },
     "metadata": {},
     "output_type": "display_data"
    },
    {
     "name": "stdout",
     "output_type": "stream",
     "text": [
      "Dimensions of X_test is (30000, 50) and y_test is (30000,)\n",
      "Predicting with X_test.....\n",
      "Classification report is .....\n",
      "             precision    recall  f1-score   support\n",
      "\n",
      "   negative       0.84      0.68      0.75     18875\n",
      "   positive       0.59      0.78      0.67     11125\n",
      "\n",
      "avg / total       0.75      0.71      0.72     30000\n",
      "\n",
      "Confusion Matrix is .....\n"
     ]
    },
    {
     "data": {
      "image/png": "[encoded data removed]",
      "text/plain": [
       "<Figure size 360x216 with 2 Axes>"
      ]
     },
     "metadata": {},
     "output_type": "display_data"
    },
    {
     "name": "stdout",
     "output_type": "stream",
     "text": [
      "18:47:43\n"
     ]
    }
   ],
   "source": [
    "# no_of_records=364171\n",
    "no_of_records=100000\n",
    "print (format(datetime.now(), '%H:%M:%S'))\n",
    "data = get_w2vdata(no_of_records)\n",
    "run_classifier(data, vectorize_technique ='Otfidfw2v')\n",
    "ist = datetime.now()\n",
    "print (format(ist, '%H:%M:%S'))"
   ]
  },
  {
   "cell_type": "markdown",
   "metadata": {},
   "source": [
    "\n",
    "|Model|Type of Search|Best Parameters |Train F1 Score|Test F1 Score|Top 10 words|\n",
    "|---:| ------------- |:-------------:| -----:|-----:|-----:|-----:|\n",
    "|BagOfWords|GridSearch|Max Depth = 14|0.7122123044264468|\t0.73|great, best, disappoint, love, delici, tast, excel, money, perfect and bad|\n",
    "|TfIDF|GridSearch|Max Depth = 13|0.7160461151410078|\t0.74|great, best, disappoint, love, delici, tast, money, high recommend, excel and perfect|\n",
    "|AverageWord2Vec|GridSearch|Max Depth = 8|0.7791195791881378|\t0.77|NA|\n",
    "|TFIDF Weighted Word2Vec|GridSearch|Max Depth = 8|0.7522766439320797|\t0.72|NA|"
   ]
  },
  {
   "cell_type": "code",
   "execution_count": 98,
   "metadata": {},
   "outputs": [],
   "source": []
  }
 ],
 "metadata": {
  "kernelspec": {
   "display_name": "py_3_6_5_keras",
   "language": "python",
   "name": "py_3_6_5_keras"
  },
  "language_info": {
   "codemirror_mode": {
    "name": "ipython",
    "version": 3
   },
   "file_extension": ".py",
   "mimetype": "text/x-python",
   "name": "python",
   "nbconvert_exporter": "python",
   "pygments_lexer": "ipython3",
   "version": "3.6.5"
  }
 },
 "nbformat": 4,
 "nbformat_minor": 2
}

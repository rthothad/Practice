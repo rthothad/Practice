{
 "cells": [
  {
   "cell_type": "markdown",
   "metadata": {},
   "source": [
    "## Goal\n",
    "Use Truncated SVD to create word vectors on Amazon Food reviews\n",
    "1. Using TFIDF pick top 2000 words from amazon food reviews dataset.\n",
    "2. Compute co-occurence matrix for the 2000 words, where given a word,w_i, - the cell w_ij contains the # of times w_j occurs in the context of word, w_i - take a neighborhood of size 5. The co-occurence matrix will be 2000x2000.\n",
    "3. Decompose it into X = U sigma V_T, where X is nxn, U is nxn, sigma is nxn and V_T is nxn\n",
    "4. Do TruncatedSVD and get U_hat sigma-hat V_T_hat where U_hat is nxk, sigma is kxk, V_T_hat is kxn. Try with multiple values of K and see what happens or find the correct K using the amount of variance explained. This is similar to PCA. In PCA we used eigen values, in SVD we use the singular values.\n",
    "Each row is u_hat corresponds to one word, which is the word vector for that word, w_i.\n",
    "5. Cluster the word vectors for the top n_words (top 2000 words). Use KMeans with K=50. The important thing here is words in a cluster should semantically be related. For instance, if there is a word Indian, then you should get things such as roti, spice\n",
    "6. Repeat the above steps for top 5000 and 10000 words\n",
    "\n",
    "### Data\n",
    "The Amazon fine food reviews dataset is available [here](https://www.kaggle.com/snap/amazon-fine-food-reviews/downloads/database.sqlite/2). The SQLLite version(database.sqlite) of the dataset is used. A folder called 'amazon-fine-food-reviews' needs to be created in the working directory and downloaded to that folder.\n",
    "\n",
    "Google Word2Vec (GoogleNews-vectors-negative300.bin) is also used and those are available [here](https://drive.google.com/file/d/0B7XkCwpI5KDYNlNUTTlSS21pQmM/edit)"
   ]
  },
  {
   "cell_type": "code",
   "execution_count": 1,
   "metadata": {},
   "outputs": [
    {
     "name": "stderr",
     "output_type": "stream",
     "text": [
      "d:\\Tools\\Miniconda3\\envs\\py_3_6_5_keras\\lib\\site-packages\\gensim\\utils.py:1209: UserWarning: detected Windows; aliasing chunkize to chunkize_serial\n",
      "  warnings.warn(\"detected Windows; aliasing chunkize to chunkize_serial\")\n"
     ]
    }
   ],
   "source": [
    "import numpy as np\n",
    "import pandas as pd\n",
    "import matplotlib.pyplot as plt\n",
    "\n",
    "from sklearn.cluster import KMeans\n",
    "from scipy.spatial.distance import cdist\n",
    "from scipy import spatial\n",
    "pd.options.display.max_colwidth = 20000\n",
    "from sklearn.metrics import pairwise_distances\n",
    "from wordcloud import WordCloud, STOPWORDS\n",
    "from itertools import islice\n",
    "\n",
    "from sklearn.decomposition import TruncatedSVD\n",
    "                                         \n",
    "\n",
    "from sklearn.preprocessing import StandardScaler\n",
    "from sklearn.feature_extraction.text import TfidfTransformer, TfidfVectorizer, CountVectorizer\n",
    "\n",
    "import itertools, pickle, random, sqlite3, nltk, string, re, operator, math\n",
    "from pathlib import Path\n",
    "from scipy import sparse\n",
    "import scipy as sp\n",
    "\n",
    "import warnings\n",
    "warnings.filterwarnings(\"ignore\")\n",
    "\n",
    "import seaborn as sns\n",
    "from nltk.stem.porter import PorterStemmer\n",
    "from nltk.corpus import stopwords\n",
    "from nltk.stem import PorterStemmer\n",
    "from nltk.stem.wordnet import WordNetLemmatizer\n",
    "\n",
    "from gensim.models import Word2Vec, KeyedVectors\n",
    "from tqdm import tqdm\n",
    "from datetime import datetime, timedelta"
   ]
  },
  {
   "cell_type": "markdown",
   "metadata": {},
   "source": [
    "### Run Classifier"
   ]
  },
  {
   "cell_type": "code",
   "execution_count": 2,
   "metadata": {},
   "outputs": [],
   "source": [
    "def plot_word_cloud(file_name, title, word_cloud_column):\n",
    "    if not file_name or not title or not word_cloud_column:\n",
    "        print ('file_name, title and word_cloud_column are mandatory parameters')\n",
    "        return\n",
    "    \n",
    "    df = pd.read_csv(file_name, encoding =\"latin-1\") \n",
    "\n",
    "    comment_words = ' '\n",
    "    stopwords = set(STOPWORDS) \n",
    "\n",
    "    for i in range(df.ClusterID.nunique()):\n",
    "        wordcloud = WordCloud(width = 800, height = 800, \n",
    "                        background_color ='white', \n",
    "                        stopwords = stopwords, \n",
    "                        min_font_size = 10).generate(str(df[df.ClusterID == i][word_cloud_column])) \n",
    "\n",
    "        # plot the WordCloud image                        \n",
    "        plt.figure(figsize = (8, 8), facecolor = None) \n",
    "        plt.title(title + ' ' + str(i))\n",
    "        plt.imshow(wordcloud) \n",
    "        plt.axis(\"off\") \n",
    "        plt.tight_layout(pad = 0) \n",
    "\n",
    "        plt.show() "
   ]
  },
  {
   "cell_type": "code",
   "execution_count": 3,
   "metadata": {},
   "outputs": [],
   "source": [
    "def plot_elbow(K, sse):\n",
    "    # Plot the elbow\n",
    "    plt.plot(K, sse, 'bx-')\n",
    "    \n",
    "    plt.xlabel('k')\n",
    "    plt.ylabel('Sum of distances of samples to their closest cluster center')\n",
    "\n",
    "    plt.title('The Elbow Method showing the optimal k')\n",
    "    plt.grid()\n",
    "    \n",
    "    plt.show()"
   ]
  },
  {
   "cell_type": "code",
   "execution_count": 4,
   "metadata": {},
   "outputs": [],
   "source": [
    "def run_kmeans(X, Ks):\n",
    "    sse = []\n",
    "    \n",
    "    for k in Ks:\n",
    "        model = KMeans(n_clusters=k, n_jobs=-1).fit(X)\n",
    "        sse.append(model.inertia_)\n",
    "            \n",
    "    plot_elbow(Ks, sse)\n",
    "#     return X"
   ]
  },
  {
   "cell_type": "code",
   "execution_count": 5,
   "metadata": {},
   "outputs": [],
   "source": [
    "def run_SVD(matrix, n_components):\n",
    "    for n_component in n_components:\n",
    "        print ('Fitting model with {} components'.format(n_component))\n",
    "        model = TruncatedSVD(n_components=n_component)\n",
    "        red_matrix = model.fit_transform(matrix)\n",
    "#         print('Explained Variance Ratio is {}'.format(model.explained_variance_ratio_))\n",
    "        print('Sum of explained variance ratio is {}'.format(model.explained_variance_ratio_.sum()))\n",
    "        print('Singular values are {}'.format(model.singular_values_))\n",
    "        print ('-'*80)\n",
    "    return red_matrix"
   ]
  },
  {
   "cell_type": "markdown",
   "metadata": {},
   "source": [
    "## Bag of Words"
   ]
  },
  {
   "cell_type": "code",
   "execution_count": 6,
   "metadata": {},
   "outputs": [],
   "source": [
    "def get_bow_tfidfdata(no_of_records = 2000, split_evenly=True):\n",
    "    if split_evenly:\n",
    "        pos_limit = int(no_of_records * 0.50)\n",
    "        neg_limit = no_of_records - pos_limit\n",
    "    else:\n",
    "    #The original dataset has approximately 85% positive reviews and 15% negative reviews, so we will use the same % to make\n",
    "    #a subset \n",
    "        pos_limit = int(no_of_records * 0.85)\n",
    "        neg_limit = no_of_records - pos_limit\n",
    "\n",
    "    final_dbconn = sqlite3.connect('./amazon-fine-food-reviews/finaldb.sqlite')\n",
    "    final_dbconn.text_factory = str\n",
    "\n",
    "    print ('Positive count is {}'.format(pos_limit))\n",
    "#     pos_qry = \"SELECT Text, BowTfIDFText, Score FROM Reviews where Score = 'positive' LIMIT \" + str(pos_limit)\n",
    "    pos_qry = \"SELECT BowTfIDFText, Score FROM Reviews where Score = 'positive' LIMIT \" + str(pos_limit)\n",
    "    pos_reviews = pd.read_sql_query(pos_qry, final_dbconn) \n",
    "    print('Positive reviews shape is {}'.format(pos_reviews.shape))\n",
    "\n",
    "    neg_qry = \"SELECT BowTfIDFText, Score FROM Reviews where Score = 'negative' LIMIT \" + str(neg_limit)\n",
    "    neg_reviews = pd.read_sql_query(neg_qry, final_dbconn) \n",
    "    print('Negative reviews shape is {}'.format(neg_reviews.shape))\n",
    "\n",
    "    frames = [pos_reviews, neg_reviews]\n",
    "\n",
    "    data = pd.concat(frames, ignore_index=True)\n",
    "    print('Both positive and negative reviews combined together contains {} reviews'.format(data.shape[0]))\n",
    "    return data"
   ]
  },
  {
   "cell_type": "code",
   "execution_count": 7,
   "metadata": {},
   "outputs": [],
   "source": [
    "#find sentences that contain the words\n",
    "def find_sentences(ds, words):\n",
    "    \n",
    "    # contains index of the sentences that contains the top n words\n",
    "    indices = set()\n",
    "    \n",
    "    for word in words:\n",
    "        c = ds.contains(word, regex=False)\n",
    "        for i, word in enumerate(c.iteritems()):\n",
    "            #if the word is present in a sentence add its index to 'd'\n",
    "            if word:\n",
    "                indices.add(i)\n",
    "\n",
    "    return indices"
   ]
  },
  {
   "cell_type": "code",
   "execution_count": 8,
   "metadata": {},
   "outputs": [],
   "source": [
    "def find_neighbors(sentence, from_word, k):\n",
    "#     print ('Finding neighbors for {} in sentence \\n{}'.format(from_word, sentence))\n",
    "    neighbors = list()\n",
    "    \n",
    "    #get all occurrences of the word\n",
    "    indices = [i for i, x in enumerate(sentence.split()) if x == from_word]\n",
    "#     print ('Word {} occurs in {}'.format(from_word, indices))\n",
    "    \n",
    "    #find all the k neighbors on either side of the word\n",
    "    for i in indices:\n",
    "        #'neighbors' will contain all the 'k' words around it, including itself\n",
    "        neighbors = list(islice(sentence.split(), max(i-k, 0), i+1+k))\n",
    "#         print ('Neighbors occuring around {} is {}'.format(sentence.split()[i], neighbors))\n",
    "        #remove all occurrences of the 'word' from the neighborhood list\n",
    "        neighbors = list(filter(lambda a: a != from_word, neighbors))\n",
    "#         print ('Neighbors occuring around {} is {}'.format(sentence.split()[i], neighbors))\n",
    "#         neighbors.remove(from_word)\n",
    "    return neighbors"
   ]
  },
  {
   "cell_type": "code",
   "execution_count": 9,
   "metadata": {},
   "outputs": [],
   "source": [
    "def get_co_occurrence(sentence, top_n_words, k, co_occur_matrix):\n",
    "\n",
    "    for word in top_n_words:\n",
    "        #find 'k' neighbors for the 'word'\n",
    "        neighbors = find_neighbors(sentence, word, k)\n",
    "        \n",
    "        #neigbors contains all the 'k' words around 'word' but we are interested to only if any of the top_n_words occur\n",
    "        #in the neighborhood\n",
    "        neighbors = set(top_n_words).intersection(neighbors)\n",
    "        #find the index of these 'neighbors' and update the co-occurrence-matrix\n",
    "        for n_w in neighbors:\n",
    "            co_occur_matrix[top_n_words.index(word), top_n_words.index(n_w)]+=1\n",
    "#             print ('Cooccurrence matrix after updating for {} and {} is \\n{}'.format(word, n_w, co_occur_matrix))\n",
    "    return co_occur_matrix"
   ]
  },
  {
   "cell_type": "code",
   "execution_count": 10,
   "metadata": {},
   "outputs": [],
   "source": [
    "def get_top_n_similarity(word, top_n_words, reduced_co_occur_matrix, n):\n",
    "    sim_dict = dict()\n",
    "    \n",
    "    #index of the 'word'\n",
    "    word_index = top_n_words.index(word)\n",
    "    #vector representing the 'word'\n",
    "    word_vector = reduced_co_occur_matrix[word_index]\n",
    "    \n",
    "    #loop through all the words in the co_occur_matrix and find out similarity between 'word' and other words\n",
    "    for i in range(len(reduced_co_occur_matrix)):\n",
    "        \n",
    "        #do not find similarity between the 'word' and itself\n",
    "        if i == word_index:\n",
    "            continue\n",
    "        \n",
    "        other_word_vector = reduced_co_occur_matrix[i]\n",
    "        \n",
    "        # cosine computes the distance, and not the similarity. So, subtract the value from 1 to get the similarity.\n",
    "        sim = 1 - spatial.distance.cosine(word_vector, other_word_vector)\n",
    "\n",
    "        if not math.isnan(sim) and sim != 0.0:\n",
    "            sim_dict[top_n_words[i]] = sim\n",
    "    \n",
    "    sorted_sim_dict = sorted(sim_dict.items(), key=operator.itemgetter(1), reverse=True)\n",
    "    return sorted_sim_dict[0:n]"
   ]
  },
  {
   "cell_type": "code",
   "execution_count": 11,
   "metadata": {},
   "outputs": [],
   "source": [
    "def group_words_clusters(top_words_with_clusters):\n",
    "    cluster = dict()\n",
    "    for k, v in top_words_with_clusters.items():\n",
    "        if v in cluster:\n",
    "            existing_value = cluster[v]\n",
    "            existing_value.append(k)\n",
    "            cluster[v] = existing_value\n",
    "        else:\n",
    "            cluster[v] = [k]\n",
    "    return sorted(cluster.items(), key=operator.itemgetter(0))"
   ]
  },
  {
   "cell_type": "markdown",
   "metadata": {},
   "source": [
    "## TF-IDF"
   ]
  },
  {
   "cell_type": "code",
   "execution_count": 13,
   "metadata": {},
   "outputs": [],
   "source": [
    "def vectorize_tfidf(X, top_n):\n",
    "    #Vectorize the reviews\n",
    "    tf_idf_vect = TfidfVectorizer(ngram_range=(1, 2), max_features=30000, min_df = 0.0009)\n",
    "#     tf_idf_vect = TfidfVectorizer()\n",
    "        \n",
    "    #Build vocabulary from X_train\n",
    "    X_counts = tf_idf_vect.fit_transform(X['BowTfIDFText'].values)\n",
    "        \n",
    "    print(\"Shape of vectorized dataset is {}\".format(X_counts.get_shape()))\n",
    "    print(\"Number of unique words in the dataset is \", X_counts.get_shape()[1])\n",
    "    print ('Type of bow_counts ', type(X_counts))\n",
    "    \n",
    "    X_std_data = StandardScaler(with_mean = False).fit_transform(X_counts)\n",
    "    print ('Type of std_bow_data is {}'.format(type(X_std_data)))\n",
    "    print ('Standardized Bag of Words review contains {} with {} features each'.format(*X_std_data.shape))\n",
    "    \n",
    "    feature_array = np.array(tf_idf_vect.get_feature_names())\n",
    "    tfidf_sorting = np.argsort(X_std_data.toarray()).flatten()[::-1]\n",
    "\n",
    "    top_n_words = list(feature_array[tfidf_sorting][:top_n])\n",
    "    \n",
    "    return X_std_data, top_n_words, tf_idf_vect"
   ]
  },
  {
   "cell_type": "markdown",
   "metadata": {},
   "source": [
    "### Find tfIDF vectors and retrieve top_n_words (2000)"
   ]
  },
  {
   "cell_type": "code",
   "execution_count": 15,
   "metadata": {},
   "outputs": [
    {
     "name": "stdout",
     "output_type": "stream",
     "text": [
      "15:14:27\n",
      "Positive count is 25000\n",
      "Positive reviews shape is (25000, 2)\n",
      "Negative reviews shape is (25000, 2)\n",
      "Both positive and negative reviews combined together contains 50000 reviews\n",
      "Shape of vectorized dataset is (50000, 5820)\n",
      "Number of unique words in the dataset is  5820\n",
      "Type of bow_counts  <class 'scipy.sparse.csr.csr_matrix'>\n",
      "Type of std_bow_data is <class 'scipy.sparse.csr.csr_matrix'>\n",
      "Standardized Bag of Words review contains 50000 with 5820 features each\n",
      "15:15:33\n"
     ]
    }
   ],
   "source": [
    "no_of_records=50000\n",
    "top_n = 2000\n",
    "\n",
    "print (format(datetime.now(), '%H:%M:%S'))\n",
    "data = get_bow_tfidfdata(no_of_records)\n",
    "X, top_n_words, tf_idf_vect = vectorize_tfidf(data, top_n)\n",
    "ist = datetime.now()\n",
    "print (format(ist, '%H:%M:%S'))"
   ]
  },
  {
   "cell_type": "markdown",
   "metadata": {},
   "source": [
    "### Create co-occurrence matrix for the top_n_words and run SVD"
   ]
  },
  {
   "cell_type": "code",
   "execution_count": 17,
   "metadata": {},
   "outputs": [
    {
     "name": "stdout",
     "output_type": "stream",
     "text": [
      "Finding sentences that contain top_n_words.......\n",
      "15:16:38\n",
      "Going through each sentence to build a co-occurrence matrix........\n",
      "15:17:32\n",
      "Running SVD with [6, 10, 15, 20] components........\n",
      "17:09:50\n",
      "Fitting model with 6 components\n",
      "Sum of explained variance ratio is 0.8607557610598783\n",
      "Singular values are [8869.70781248 1806.1546129  1567.68567763 1296.77213365 1178.0384614\n",
      " 1138.49434479]\n",
      "--------------------------------------------------------------------------------\n",
      "Fitting model with 10 components\n",
      "Sum of explained variance ratio is 0.8988111955754747\n",
      "Singular values are [8869.70781248 1806.15461295 1567.68567775 1296.77219093 1178.03856688\n",
      " 1138.49442404 1113.66806039  985.04763693  904.74135056  773.67777044]\n",
      "--------------------------------------------------------------------------------\n",
      "Fitting model with 15 components\n",
      "Sum of explained variance ratio is 0.9239378432244681\n",
      "Singular values are [8869.70781248 1806.15461295 1567.68567776 1296.77219145 1178.03856974\n",
      " 1138.49442746 1113.66807222  985.04764614  904.74200412  773.68209721\n",
      "  753.01400125  732.45433038  709.49653757  652.6455489   602.38555038]\n",
      "--------------------------------------------------------------------------------\n",
      "Fitting model with 20 components\n",
      "Sum of explained variance ratio is 0.9397903951851696\n",
      "Singular values are [8869.70781248 1806.15461295 1567.68567776 1296.77219148 1178.03857016\n",
      " 1138.49442895 1113.66807334  985.04769812  904.74206589  773.68286459\n",
      "  753.01522516  732.45515906  709.50346123  652.71012545  602.47086989\n",
      "  582.84790884  561.9403189   546.19931756  541.3715234   511.95750399]\n",
      "--------------------------------------------------------------------------------\n"
     ]
    }
   ],
   "source": [
    "#nearest neighbors to search for context\n",
    "k = 5\n",
    "#reduce svd components to\n",
    "n_components = [6, 10, 15, 20]\n",
    "\n",
    "n = len(top_n_words)\n",
    "co_occur_matrix = np.zeros([n, n])\n",
    "\n",
    "#find sentences that contain top_n_words\n",
    "print ('Finding sentences that contain top_n_words.......')\n",
    "ist = datetime.now()\n",
    "print (format(ist, '%H:%M:%S'))\n",
    "sent_indices = find_sentences(data.BowTfIDFText.str, top_n_words)\n",
    "\n",
    "#go through each sentence and build a co-occurrence matrix\n",
    "print ('Going through each sentence to build a co-occurrence matrix........')\n",
    "ist = datetime.now()\n",
    "print (format(ist, '%H:%M:%S'))\n",
    "for sent_index in sent_indices:\n",
    "    co_occur_matrix = get_co_occurrence(data.BowTfIDFText[sent_index], top_n_words, k, co_occur_matrix)\n",
    "\n",
    "#run SVD on co-occurrence-matrix\n",
    "print ('Running SVD with {} components........'.format(n_components))\n",
    "ist = datetime.now()\n",
    "print (format(ist, '%H:%M:%S'))\n",
    "reduced_co_occur_matrix = run_SVD(co_occur_matrix, n_components)"
   ]
  },
  {
   "cell_type": "code",
   "execution_count": 18,
   "metadata": {},
   "outputs": [
    {
     "name": "stdout",
     "output_type": "stream",
     "text": [
      "Fitting model with 15 components\n",
      "Sum of explained variance ratio is 0.9239362611133387\n",
      "Singular values are [8869.70781248 1806.15461295 1567.68567776 1296.77219141 1178.03856872\n",
      " 1138.49442873 1113.66807132  985.04767864  904.74201445  773.68080016\n",
      "  753.0145799   732.45119288  709.4551456   652.65758303  602.34901444]\n",
      "--------------------------------------------------------------------------------\n"
     ]
    }
   ],
   "source": [
    "#run SVD with a reasonable number of components\n",
    "reduced_co_occur_matrix = run_SVD(co_occur_matrix, [15])"
   ]
  },
  {
   "cell_type": "markdown",
   "metadata": {},
   "source": [
    "### Run KMeans with k values on the co-occurrence matrix containing max explained variance ratio"
   ]
  },
  {
   "cell_type": "code",
   "execution_count": 19,
   "metadata": {},
   "outputs": [
    {
     "data": {
      "image/png": "[encoded data removed]",
      "text/plain": [
       "<Figure size 432x288 with 1 Axes>"
      ]
     },
     "metadata": {},
     "output_type": "display_data"
    }
   ],
   "source": [
    "run_kmeans(reduced_co_occur_matrix, range(4, 10))"
   ]
  },
  {
   "cell_type": "markdown",
   "metadata": {},
   "source": [
    "### Using the optimal_k from above run KMeans and group words and clusters"
   ]
  },
  {
   "cell_type": "code",
   "execution_count": 20,
   "metadata": {},
   "outputs": [
    {
     "name": "stdout",
     "output_type": "stream",
     "text": [
      "[(0, ['zuke mini', 'forward tri', 'foul', 'found amazon', 'found local', 'found one', 'found product', 'found tea', 'fortun', 'four star', 'fourth', 'fragil', 'fragranc', 'fragrant', 'franc', 'frank', 'freak', 'forward', 'formul', 'foot', 'food tast', 'food treat', 'food tri', 'food use', 'food well', 'food would', 'food year', 'fool', 'forc', 'free product', 'foreign', 'forev', 'forget', 'forgot', 'forgotten', 'fork', 'form', 'former', 'free food', 'free ship', 'food sinc', 'frost', 'fructos', 'fructos corn', 'fruit flavor', 'fruiti', 'frustrat', 'fudg', 'fulfil', 'full bodi', 'full flavor', 'full refund', 'fulli', 'fun', 'function', 'funki', 'funni', 'fur', 'furnitur', 'frozen', 'front', 'freez', 'friski', 'freez dri', 'freezer', 'french', 'french press', 'french vanilla', 'frequent', 'fresh ground', 'fresh tast', 'fresh whole', 'freshen', 'fresher', 'fri', 'friday', 'fridg', 'friend famili', 'friend love', 'friend mine', 'food store', 'food realli', 'food seem', 'fluffi', 'flavor tri', 'flavor use', 'flavor well', 'flavor without', 'flavor would', 'flavorless', 'flavour', 'flax', 'flea', 'fli', 'fli trap', 'flimsi', 'flip', 'float', 'floor', 'floral', 'florida', 'flow', 'flavor textur', 'flavor tea', 'flavor tast', 'flavor littl', 'flavor flavor', 'flavor food', 'flavor get', 'flavor good', 'flavor great', 'flavor ive', 'flavor last', 'flavor like', 'flavor look', 'flavor sweet', 'flavor love', 'flavor make', 'flavor much', 'flavor one', 'flavor product', 'flavor realli', 'flavor smell', 'flavor strong', 'flower', 'fluid', 'futur', 'fluke', 'food eat', 'food even', 'food feed', 'food first', 'food food', 'food found', 'food get', 'food good', 'food great', 'food item', 'food ive', 'food like', 'food love', 'food made', 'food make', 'food market', 'food much', 'food one', 'food product', 'food dont', 'food dog', 'food contain', 'follow direct', 'flush', 'foam', 'focus', 'foil', 'fold', 'folger', 'folk', 'follow instruct', 'food compani', 'fond', 'food allergi', 'food also', 'food amazon', 'food bank', 'food cat', 'food color', 'fussi', 'fyi', 'flavor dont', 'go back', 'go get', 'go order', 'go tri', 'goat', 'goat milk', 'gobbl', 'god', 'godiva', 'goe long', 'goe well', 'gold', 'golden', 'golden retriev', 'gonna', 'good also', 'good amount', 'go buy', 'give tri', 'gnaw', 'glad find', 'glad found', 'glass', 'glass bottl', 'glass jar', 'glaze', 'gloria', 'gloria jean', 'glow', 'glow review', 'glucos', 'glucosamin', 'glue', 'glutam', 'gluten free', 'gmo', 'good bad', 'good better', 'good brand', 'good buy', 'good news', 'good one', 'good price', 'good product', 'good qualiti', 'good realli', 'good review', 'good shape', 'good stuff', 'good tast', 'good tea', 'good textur', 'good thing', 'good time', 'good tri', 'good true', 'good use', 'good valu', 'good way', 'good make', 'good luck', 'good like', 'good earth', 'good choic', 'good coffe', 'good condit', 'good cup', 'good deal', 'good dog', 'good dont', 'good drink', 'good enough', 'good idea', 'good flavor', 'good food', 'good get', 'good good', 'good great', 'good health', 'good hot', 'good howev', 'give two', 'give treat', 'gag', 'genet', 'genuin', 'gerber', 'german', 'german shepherd', 'germani', 'get amazon', 'get anoth', 'get away', 'get back', 'get bag', 'get better', 'get box', 'get dog', 'get eat', 'get enough', 'get flavor', 'get food', 'get free', 'gentl', 'generous', 'give star', 'generic', 'gain', 'gain weight', 'gallon', 'game', 'garbag', 'garden', 'garlic', 'gas', 'gather', 'gave away', 'gave one', 'gave star', 'gave tri', 'gave two', 'gel', 'gelatin', 'generat', 'get good', 'get great', 'get home', 'get littl', 'ghost', 'giant', 'gift basket', 'gift friend', 'ginger', 'ginger tea', 'gingerbread', 'girl', 'girlfriend', 'give away', 'give cat', 'give dog', 'give gift', 'give good', 'give one', 'give product', 'give shot', 'ghirardelli', 'get wrong', 'get use', 'get real', 'get local', 'get lot', 'get money', 'get much', 'get one', 'get past', 'get pay', 'get product', 'get refund', 'get two', 'get rid', 'get right', 'get sick', 'get someth', 'get stuck', 'get tast', 'get tea', 'get treat', 'flavor even', 'flavor doesnt', 'good would', 'ever bought', 'ever eaten', 'ever made', 'ever seen', 'ever sinc', 'ever tast', 'ever tri', 'ever use', 'everi day', 'everi month', 'everi morn', 'everi night', 'everi one', 'everi penni', 'everi singl', 'everi time', 'everi week', 'everi year', 'everlast', 'ever buy', 'even better', 'eventu', 'even come', 'even eat', 'even finish', 'even get', 'even give', 'even good', 'even know', 'even like', 'even make', 'even one', 'even put', 'even smell', 'even tast', 'even think', 'even though', 'even tri', 'even use', 'even wors', 'event', 'everlast treat', 'everybodi', 'everyday', 'exchang', 'excit find', 'excit get', 'excit see', 'excit tri', 'exclus', 'excus', 'exercis', 'exist', 'exot', 'expand', 'expect much', 'expect someth', 'expect tast', 'experienc', 'excess', 'excel tast', 'everyon els', 'everyon love', 'everyth els', 'everytim', 'everywher', 'evid', 'evo', 'exact like', 'excel qualiti', 'exact product', 'exagger', 'examin', 'exampl', 'exceed', 'excel condit', 'excel product', 'even close', 'even ad', 'flavor could', 'effort', 'egbert', 'eight', 'either way', 'elder', 'electr', 'elig', 'elimin', 'elsewher', 'email', 'embarrass', 'emerg', 'empti', 'encount', 'encourag', 'effici', 'educ', 'edit', 'eat food', 'eat healthi', 'eat like', 'eat lot', 'eat much', 'eat one', 'eat right', 'eat someth', 'eat stuff', 'eat treat', 'eat tri', 'eat well', 'eat whole', 'eater', 'econom', 'eden', 'edg', 'edibl', 'end give', 'end throw', 'energet', 'energi', 'envelop', 'environ', 'enzym', 'equal', 'equip', 'equival', 'error', 'especi like', 'especi sinc', 'espresso', 'espresso machin', 'essenc', 'essenti', 'estim', 'europ', 'european', 'evapor', 'entir box', 'entic', 'enjoy flavor', 'energi drink', 'england', 'english', 'english breakfast', 'english muffin', 'enhanc', 'enjoy eat', 'enjoy much', 'enthusiast', 'enjoy product', 'enjoy tast', 'enjoy tea', 'enough make', 'ensur', 'enter', 'entertain', 'expert', 'expir date', 'find amazon', 'find anywher', 'find better', 'find brand', 'find good', 'find groceri', 'find local', 'find one', 'find product', 'find someth', 'find store', 'find tea', 'find use', 'find way', 'finest', 'finger', 'finicki', 'finish one', 'find anoth', 'explain', 'final found', 'felt like', 'femal', 'fenc', 'fennel', 'fenugreek', 'ferment', 'fewer', 'fiber', 'field', 'fig', 'fight', 'figur would', 'file', 'filler', 'film', 'filter', 'fire', 'firm', 'first bag', 'fish oil', 'fishi', 'fit', 'fit bill', 'five', 'five minut', 'five star', 'five year', 'fix', 'flake', 'flat', 'flavor ad', 'flavor add', 'flavor also', 'flavor aroma', 'flavor bit', 'flavor coffe', 'flavor come', 'first week', 'first two', 'first open', 'first bite', 'first bought', 'first box', 'first cup', 'first day', 'first got', 'first ingredi', 'first one', 'first order', 'first tri', 'first place', 'first review', 'first sip', 'first start', 'first tast', 'first thing', 'first thought', 'first time', 'fellow', 'fell love', 'far better', 'faith', 'fake', 'fall', 'fall apart', 'fallen', 'fals', 'fals advertis', 'famili friend', 'famili love', 'famili member', 'familiar', 'famous', 'fanci', 'fanci feast', 'fantast', 'far away', 'faint', 'failur', 'extract', 'explan', 'explod', 'expos', 'express', 'extend', 'extens', 'extra virgin', 'fail', 'extrem disappoint', 'eye', 'fabul', 'face', 'facil', 'factor', 'factori', 'far best', 'far favorit', 'fell apart', 'far less', 'fda', 'fear', 'feast', 'featur', 'februari', 'fed', 'fee', 'feed cat', 'feed dog', 'feedback', 'feel bad', 'feel better', 'feel good', 'feel like', 'feet', 'felin', 'fell', 'favorit treat', 'favorit tea', 'favorit hot', 'faster', 'far superior', 'far worst', 'farm', 'farm product', 'farmer', 'fashion', 'fast ship', 'favorit flavor', 'fat content', 'fat free', 'father', 'fatti', 'fault', 'favor', 'favorit candi', 'good well', 'goodi', 'eat dri', 'kitten', 'knew', 'knife', 'knock', 'know get', 'know good', 'know got', 'know like', 'know product', 'know tast', 'know would', 'knowledg', 'known', 'kona', 'kona coffe', 'kong', 'korean', 'kosher', 'kraft', 'kitti', 'kitchen', 'keep hand', 'kit', 'keep mind', 'kept', 'kernel', 'ketchup', 'kettl', 'keurig', 'key', 'kibbl', 'kid like', 'kid love', 'kidney', 'kill', 'killer', 'kind like', 'kinda', 'king', 'kroger', 'lab', 'lab mix', 'last night', 'last one', 'last order', 'last time', 'last two', 'last week', 'last year', 'late', 'latest', 'latt', 'latter', 'laugh', 'lavazza', 'lavend', 'law', 'lawn', 'laxat', 'lay', 'last month', 'last minut', 'last longer', 'larg amount', 'label say', 'labor', 'lack flavor', 'ladi', 'lamb', 'land', 'larg bag', 'last long', 'larg dog', 'larg quantiti', 'larg size', 'larger size', 'largest', 'last day', 'keep look', 'keep fresh', 'lazi', 'item arriv', 'item like', 'item order', 'item receiv', 'item ship', 'itll', 'ive also', 'ive alway', 'ive bought', 'ive buy', 'ive drink', 'ive eaten', 'ive ever', 'ive found', 'ive got', 'ive gotten', 'ive heard', 'ive made', 'item amazon', 'itchi', 'keep dog', 'itch', 'intern', 'internet', 'intestin', 'intoler', 'introduc', 'invent', 'invest', 'investig', 'involv', 'irish', 'iron', 'irrit', 'island', 'isnt bad', 'isnt good', 'itali', 'italian', 'ive never', 'ive order', 'ive purchas', 'ive read', 'joe', 'joint', 'joke', 'joy', 'judg', 'jug', 'juici', 'juli', 'jump', 'june', 'junk', 'junk food', 'justifi', 'kashi', 'keaton', 'keep busi', 'keep buy', 'job', 'jim', 'januari', 'ive seen', 'ive tast', 'ive tri', 'ive use', 'jack', 'jalapeno', 'jam', 'jamaica', 'japan', 'jerk', 'japanes', 'jasmin', 'jaw', 'jean', 'jelli', 'jelli bean', 'jelli belli', 'layer', 'lbs', 'intent', 'like say', 'like someon', 'like someth', 'like spici', 'like strong', 'like stuff', 'like sugar', 'like sweet', 'like tast', 'like tea', 'like treat', 'like tri', 'like use', 'like vanilla', 'like water', 'like way', 'like well', 'like would', 'lime', 'lime juic', 'like smell', 'like said', 'like licoric', 'like review', 'like littl', 'like lot', 'like make', 'like mani', 'like mine', 'like mix', 'like much', 'like natur', 'like old', 'like one', 'like other', 'like peanut', 'like pictur', 'like plastic', 'like product', 'like put', 'like real', 'like realli', 'like regular', 'limit', 'lindt', 'linger', 'littl one', 'littl piec', 'littl pricey', 'littl sugar', 'littl sweet', 'littl tast', 'live without', 'liver', 'liver treat', 'load', 'loaf', 'lobster', 'local asian', 'local groceri', 'local health', 'local market', 'local pet', 'littl less', 'littl guy', 'littl goe', 'listen', 'link', 'lip', 'lipton', 'liquid', 'liquor', 'list amazon', 'list ingredi', 'liter', 'littl flavor', 'litter', 'litter box', 'littl better', 'littl bit', 'littl dog', 'littl expens', 'littl extra', 'like like', 'like know', 'lead', 'lentil', 'less expens', 'less half', 'less minut', 'lesson', 'lesson learn', 'let alon', 'let know', 'let say', 'let sit', 'let tell', 'letter', 'level', 'liber', 'lick', 'licoric flavor', 'licoric root', 'leonida', 'length', 'like kind', 'lemongrass', 'leaf', 'leaf tea', 'leak', 'lean', 'learn', 'least one', 'leather', 'lecithin', 'led', 'leftov', 'leg', 'legal', 'lemon flavor', 'lemon juic', 'lemonad', 'lid', 'lie', 'lift', 'like dog', 'like dont', 'like dri', 'like drink', 'like eat', 'like either', 'like even', 'like fact', 'like first', 'like flavor', 'like food', 'like fresh', 'like get', 'like give', 'like good', 'like great', 'like green', 'like hot', 'like idea', 'like crazi', 'like coffe', 'like coconut', 'like black', 'lighter', 'like also', 'like anoth', 'like anyth', 'like best', 'like better', 'like brand', 'like chocol', 'like buy', 'like candi', 'like cardboard', 'like cheap', 'like chees', 'like chemic', 'like chew', 'like chicken', 'intens', 'gooey', 'handi', 'hang', 'happi find', 'happi found', 'happi product', 'happi purchas', 'happi see', 'happier', 'happili', 'hard believ', 'hard candi', 'hard chew', 'hard find', 'hard get', 'hard rock', 'hard time', 'harden', 'handl', 'hamburg', 'guest', 'guilti', 'gummi', 'gummi bear', 'gut', 'guy', 'habanero', 'habit', 'hadnt', 'hair', 'hairbal', 'half half', 'half hour', 'half price', 'halloween', 'halo', 'ham', 'harder', 'haribo', 'harm', 'harsh', 'healthier', 'healthiest', 'hear', 'heard', 'heart', 'hearti', 'heaven', 'heavi', 'heavili', 'heck', 'hed', 'held', 'hell', 'help get', 'help keep', 'henc', 'herb', 'healthi treat', 'healthi snack', 'healthi food', 'hawaiian', 'harvest', 'hasnt', 'hassl', 'havent found', 'havent tri', 'hawaii', 'hazard', 'hazelnut', 'head', 'headach', 'heal', 'health benefit', 'health food', 'health problem', 'guess ill', 'guarante', 'herbal tea', 'grandmoth', 'granola bar', 'grant', 'granul', 'grape', 'grass', 'grassi', 'grate', 'gravi', 'gray', 'greas', 'greasi', 'great altern', 'great buy', 'great coffe', 'great deal', 'great dog', 'great dont', 'great flavor', 'granola', 'grandma', 'growth', 'grand', 'googl', 'gorgeous', 'got bad', 'got home', 'got one', 'got sick', 'gotta', 'gotten', 'gourmet', 'grab', 'grade', 'gradual', 'graham', 'grain free', 'graini', 'gram', 'gram sugar', 'great gift', 'great hot', 'great idea', 'great job', 'green mountain', 'green tea', 'greeni', 'grew', 'grey', 'grill', 'grind', 'grinder', 'grit', 'gritti', 'grocer', 'groceri store', 'ground coffe', 'group', 'grow', 'grown', 'greek', 'greatest', 'great snack', 'great like', 'great littl', 'great make', 'great price', 'great product', 'great qualiti', 'great review', 'great servic', 'great stuff', 'greater', 'great tast', 'great tea', 'great thing', 'great train', 'great treat', 'great use', 'great valu', 'great way', 'herbal', 'here', 'intend', 'immun', 'immun system', 'imo', 'impact', 'imposs', 'imposs find', 'improv', 'inch', 'inconsist', 'incorrect', 'increas', 'increas milk', 'incred', 'inde', 'india', 'imit', 'imag', 'iam', 'illustr', 'ice cream', 'ice tea', 'ideal', 'ident', 'identifi', 'ignor', 'ill buy', 'ill get', 'ill give', 'ill keep', 'ill never', 'ill order', 'ill probabl', 'ill stick', 'ill tri', 'ill use', 'illi', 'indian', 'indian food', 'indic', 'indigest', 'inner', 'innova', 'insan', 'insect', 'insert', 'insid box', 'insist', 'inspect', 'inspir', 'instanc', 'instant', 'instant coffe', 'instead one', 'instruct', 'insult', 'intact', 'intak', 'initi', 'inhal', 'ingredi product', 'infant', 'individu', 'individu wrap', 'indoor', 'induc', 'indulg', 'industri', 'ined', 'inexpens', 'infect', 'ingredi list', 'inferior', 'infest', 'info', 'inform', 'infus', 'ingest', 'ingredi label', 'hype', 'hershey', 'hip', 'hit', 'hodgson', 'hold', 'holder', 'hole', 'holiday', 'holist', 'home made', 'homemad', 'honest', 'hook', 'hope find', 'hope get', 'hope help', 'hope product', 'hope would', 'histori', 'hydrogen oil', 'hill', 'hes', 'hesit', 'hey', 'hibiscus', 'hidden', 'hide', 'high end', 'high fructos', 'high hope', 'high price', 'high protein', 'high qualiti', 'high recommend', 'higher', 'higher price', 'higher qualiti', 'highest', 'hike', 'hormon', 'horribl tast', 'horrid', 'howev one', 'howev tast', 'hubbi', 'huckleberri', 'huge disappoint', 'huge fan', 'hull', 'human', 'hundr', 'hungri', 'hunt', 'hurri', 'hurt', 'husband love', 'huski', 'hydrat', 'hydrogen', 'household', 'hot enough', 'horror', 'hors', 'hospit', 'hot chocol', 'hot cocoa', 'hot cold', 'hot dog', 'hot hot', 'hour later', 'hot pepper', 'hot sauc', 'hot spici', 'hot tea', 'hot water', 'hotter', 'hottest', 'eat even', 'eat anyth', 'bottom line', 'bought amazon', 'bought bag', 'bought base', 'bought bottl', 'bought box', 'bought case', 'bought gift', 'bought item', 'bought local', 'bought one', 'bought pack', 'bought product', 'bought sever', 'bought store', 'bought tea', 'bought think', 'bought three', 'bother', 'blue', 'boston', 'blueberri', 'board', 'bob', 'bob red', 'boil', 'boil water', 'bold', 'bomb', 'bonsai', 'bonsai tree', 'bonus', 'book', 'boost', 'boot', 'border', 'bore', 'born', 'bought two', 'bouillon', 'bowel', 'brand dog', 'brand flavor', 'brand like', 'brand name', 'brand one', 'brand tea', 'brand tri', 'bread machin', 'bread mix', 'breakfast', 'breakfast tea', 'breast', 'breastfeed', 'breath', 'breed', 'breeder', 'branch', 'bran', 'brain', 'box pack', 'box arriv', 'box box', 'box contain', 'box dont', 'box like', 'box one', 'box open', 'box say', 'bragg', 'box tea', 'box tri', 'box would', 'boxer', 'boy', 'boyfriend', 'boylan', 'bpa', 'blue buffalo', 'blow', 'brew tea', 'best thing', 'best way', 'bet', 'better brand', 'better buy', 'better deal', 'better flavor', 'better one', 'better price', 'better product', 'better qualiti', 'better tast', 'better use', 'beverag', 'bewar', 'beyond', 'big bag', 'big box', 'best use', 'best tea', 'blossom', 'best tast', 'belong', 'belov', 'benefici', 'benefit', 'berri', 'besid', 'best chocol', 'best coffe', 'best date', 'best dog', 'best ever', 'best flavor', 'best hot', 'best ive', 'best one', 'best part', 'best price', 'best product', 'big deal', 'big differ', 'big disappoint', 'big fan', 'black pepper', 'black tea', 'blackberri', 'blah', 'blame', 'bland tast', 'bleed', 'blender', 'bless', 'blew', 'bloat', 'block', 'blood', 'blood pressur', 'blood sugar', 'bloodi', 'bloom', 'black licoric', 'black bean', 'birth', 'big hit', 'big mistak', 'bigelow', 'bigger', 'biggest', 'bill', 'bin', 'bird', 'birthday', 'bitter tast', 'biscuit', 'bit expens', 'bit like', 'bit pricey', 'bitter aftertast', 'brewer', 'bell', 'cancel subscript', 'candi bar', 'cane', 'cane sugar', 'canida', 'canin', 'canist', 'cannot believ', 'cannot find', 'cannot get', 'cannot recommend', 'cannot return', 'canola', 'canola oil', 'cant beat', 'cant believ', 'cant drink', 'cancer', 'cancel order', 'cal', 'cancel', 'california', 'call amazon', 'call compani', 'calm', 'calori fat', 'calori per', 'came across', 'came back', 'came quick', 'camp', 'campbel', 'can cat', 'can dent', 'can food', 'canada', 'cant eat', 'cant even', 'cant find', 'cant get', 'care packag', 'carob', 'carpet', 'carri around', 'carri product', 'carrot', 'carton', 'cashew', 'casserol', 'cast', 'cat dog', 'cat eat', 'cat food', 'cat get', 'cat like', 'cardboard box', 'cardamom', 'cant wait', 'cant imagin', 'cant realli', 'cant recommend', 'cant return', 'cant say', 'cant stand', 'cant tast', 'cant tell', 'cant wrong', 'card', 'cap', 'cappuccino', 'capsul', 'car', 'caramel', 'carb', 'carbohydr', 'carbon', 'calcium', 'cake mix', 'brick', 'brussel', 'bubbl', 'bubbl gum', 'bubbl wrap', 'buck', 'bucket', 'bud', 'buddi', 'budget', 'buffalo', 'bug', 'build', 'bull', 'bulldog', 'bulli', 'bulli stick', 'bummer', 'bump', 'bunch', 'btw', 'brush teeth', 'brush', 'bright', 'bring back', 'british', 'brittl', 'broccoli', 'broke', 'broken', 'broken piec', 'broth', 'brother', 'brought', 'brought back', 'brought home', 'brown color', 'brown rice', 'brown sugar', 'browni', 'bunni', 'burger', 'burn', 'burnt', 'buy larg', 'buy local', 'buy lot', 'buy one', 'buy onlin', 'buy pack', 'buy product', 'buy seller', 'buy someth', 'buy store', 'buy stuff', 'buy tea', 'buyer', 'buyer bewar', 'cabinet', 'cafe', 'caffein', 'caffein free', 'cajun', 'buy item', 'buy groceri', 'buy food', 'button', 'burst', 'burton', 'bush', 'busi', 'bust', 'butter flavor', 'butteri', 'buy dog', 'buy amazon', 'buy anoth', 'buy anyth', 'buy bag', 'buy box', 'buy brand', 'buy bulk', 'buy case', 'belli', 'local supermarket', 'also help', 'also love', 'also made', 'also make', 'also notic', 'also order', 'also recommend', 'also tast', 'also tri', 'also use', 'alter', 'altogeth', 'altoid', 'alway buy', 'alway get', 'alway good', 'alway like', 'also like', 'also great', 'almond flour', 'also good', 'almost anyth', 'almost everi', 'almost everyth', 'almost imposs', 'almost like', 'almost year', 'alon', 'alot', 'alright', 'also add', 'also bought', 'also contain', 'also dont', 'also found', 'also get', 'also give', 'alway look', 'alway love', 'alway use', 'amount time', 'amount water', 'anchovi', 'angel', 'angri', 'anim', 'anis', 'anni', 'annoy', 'anoth bag', 'anoth box', 'anoth brand', 'anoth compani', 'anoth one', 'anoth review', 'answer', 'ant', 'among', 'ami', 'american', 'amazon offer', 'amazon best', 'amazon carri', 'amazon com', 'amazon custom', 'amazon get', 'amazon great', 'amazon make', 'amazon order', 'america', 'amazon price', 'amazon prime', 'amazon product', 'amazon refund', 'amazon review', 'amazon sell', 'amazon ship', 'amazon would', 'almond', 'anticip', 'ach', 'acid', 'acquir', 'acquir tast', 'across', 'act', 'act like', 'action', 'activ', 'actual like', 'actual tast', 'ad littl', 'ad sugar', 'add flavor', 'add littl', 'add milk', 'add sugar', 'achiev', 'accustom', 'allow', 'accur', 'abl buy', 'abl eat', 'abl find', 'abl get', 'abl use', 'absolut best', 'absolut delici', 'absolut favorit', 'absolut love', 'absorb', 'accept', 'access', 'accid', 'accident', 'accompani', 'accord', 'account', 'add water', 'addict', 'address', 'agre', 'agre review', 'ahead', 'aid', 'aint', 'air', 'airtight', 'aka', 'ala', 'alcohol', 'alec', 'alec baldwin', 'alert', 'aliv', 'allerg', 'allerg reaction', 'allergen', 'allergi', 'aggress', 'agent', 'age', 'advertis', 'adequ', 'adjust', 'admit', 'adopt', 'ador', 'adult', 'advantag', 'adventur', 'advic', 'agav', 'advis', 'affect', 'afford', 'afraid', 'africa', 'afternoon']), (1, ['found', 'food', 'give', 'even', 'find', 'first', 'know', 'ive', 'littl', 'great', 'eat', 'bought', 'brand', 'better', 'best', 'buy', 'also', 'amazon']), (2, ['descript', 'pictur', 'four', 'formula', 'fruit', 'full', 'friend', 'flour', 'follow', 'goe', 'gone', 'given', 'glad', 'gluten', 'gave', 'general', 'gift', 'everyon', 'excit', 'experi', 'except', 'exact', 'everyth', 'excel', 'effect', 'egg', 'either', 'els', 'end', 'eaten', 'especi', 'etc', 'entir', 'expir', 'fine', 'finish', 'figur', 'fill', 'final', 'fish', 'felt', 'famili', 'fan', 'fair', 'extra', 'extrem', 'fact', 'feed', 'fast', 'fat', 'kick', 'kid', 'label', 'later', 'lack', 'larg', 'larger', 'isnt', 'issu', 'juic', 'jerki', 'jar', 'line', 'live', 'list', 'let', 'licoric', 'least', 'leav', 'left', 'lemon', 'life', 'light', 'interest', 'happen', 'hand', 'guess', 'gum', 'half', 'heat', 'hate', 'havent', 'healthi', 'health', 'grain', 'gross', 'ground', 'green', 'imagin', 'immedi', 'import', 'impress', 'includ', 'idea', 'insid', 'instead', 'ice', 'home', 'honey', 'hint', 'horribl', 'huge', 'husband', 'hous', 'hour', 'bottom', 'bodi', 'bone', 'bowl', 'bread', 'break', 'bland', 'blend', 'black', 'bite', 'bitter', 'brew', 'cannot', 'call', 'calori', 'came', 'can', 'care', 'carri', 'cardboard', 'bulk', 'cake', 'bring', 'brown', 'butter', 'believ', 'altern', 'although', 'along', 'alreadi', 'amaz', 'amount', 'abl', 'absolut', 'addit', 'ago', 'aftertast']), (3, ['qualiti', 'bad', 'free', 'fresh', 'go', 'everi', 'ever', 'expect', 'expens', 'enjoy', 'enough', 'far', 'feel', 'favorit', 'kind', 'last', 'item', 'keep', 'local', 'less', 'happi', 'hard', 'help', 'got', 'groceri', 'ill', 'ingredi', 'hope', 'high', 'howev', 'hot', 'bottl', 'box', 'big', 'bit', 'candi', 'cant', 'case', 'cat', 'alway', 'anoth', 'almost', 'actual', 'ad', 'add']), (4, ['like']), (5, ['good', 'get', 'flavor'])]"
     ]
    },
    {
     "name": "stdout",
     "output_type": "stream",
     "text": [
      "\n"
     ]
    }
   ],
   "source": [
    "optimal_k = 6\n",
    "\n",
    "model = KMeans(n_clusters=optimal_k, n_jobs=-1).fit(reduced_co_occur_matrix)\n",
    "#create a dictionary with top_n_words and its cluster\n",
    "top_words_with_clusters = dict(zip(top_n_words, model.labels_))\n",
    "print (group_words_clusters(top_words_with_clusters))"
   ]
  },
  {
   "cell_type": "markdown",
   "metadata": {},
   "source": [
    "### Use words from above to understand similarity between words"
   ]
  },
  {
   "cell_type": "code",
   "execution_count": 25,
   "metadata": {},
   "outputs": [
    {
     "name": "stdout",
     "output_type": "stream",
     "text": [
      "Words similar to gorgeous are: \n",
      "[('hit', 0.9468286690993001), ('famous', 0.9450705948715263), ('flower', 0.9441520515651028), ('impress', 0.9409283650580673), ('fan', 0.9340434619809425), ('leav', 0.9330396769093743), ('fragranc', 0.9326901143487611), ('exagger', 0.932377101754313), ('along', 0.9323321677890796), ('generous', 0.9321919707750645)]\n",
      "\n",
      "Words similar to burger are: \n",
      "[('honey', 0.9711999053242796), ('ice', 0.9667690630478392), ('ham', 0.9580571540719585), ('beverag', 0.957953049459939), ('breakfast', 0.957556823924024), ('hotter', 0.955170992411224), ('kick', 0.9496333819862972), ('grill', 0.9488227399582313), ('liber', 0.9483750522785287), ('juic', 0.9436805701182144)]\n",
      "\n",
      "Words similar to garlic are: \n",
      "[('heat', 0.9830248817126689), ('blend', 0.9819799333508338), ('acid', 0.9763238333650436), ('ad', 0.9739623570021548), ('kick', 0.9738625180677003), ('lemon', 0.973461519968139), ('blueberri', 0.9730341011535468), ('ginger', 0.9726149629008252), ('add', 0.9719659359314512), ('honey', 0.9708635416544893)]\n",
      "\n",
      "Words similar to egg are: \n",
      "[('beverag', 0.9733720792195467), ('juic', 0.9730120994582809), ('fri', 0.9726263411887283), ('leaf', 0.971966397148869), ('addit', 0.9718363980183078), ('homemad', 0.9700398092036437), ('grill', 0.9686373639809369), ('goe', 0.9662971648878149), ('especi', 0.9646925415486268), ('caffein', 0.9639963175535364)]\n",
      "\n",
      "Words similar to ice are: \n",
      "[('honey', 0.9917941544778096), ('beverag', 0.9781826929473613), ('juic', 0.9773446301983963), ('kick', 0.9769101663952211), ('brew', 0.9752190237969462), ('ginger', 0.9744015164564085), ('espresso', 0.9735669260158686), ('grill', 0.9735634346965928), ('frost', 0.9721968140082374), ('glaze', 0.9712392447164603)]\n",
      "\n",
      "Words similar to honey are: \n",
      "[('ice', 0.9917941544778096), ('ginger', 0.9839281047777534), ('juic', 0.9827974247104724), ('ham', 0.9787766992441239), ('caffein', 0.9778507247568066), ('lavend', 0.9761832936828085), ('kick', 0.9749854237865753), ('almond', 0.9734334401040889), ('grill', 0.9721862884440503), ('hot', 0.9718528678125813)]\n",
      "\n",
      "Words similar to lemongrass are: \n",
      "[('extract', 0.9655511132997325), ('cardamom', 0.9615937006027213), ('essenc', 0.9526744013010165), ('infus', 0.9482364348069007), ('anis', 0.9475828107723756), ('lime', 0.9434816777886722), ('lemon', 0.9408482771704721), ('lecithin', 0.9402287406032118), ('blend', 0.9340668027520024), ('blackberri', 0.9260141329631243)]\n",
      "\n",
      "Words similar to habanero are: \n",
      "[('heat', 0.9671972916697417), ('blend', 0.9596478365112436), ('garlic', 0.9580058723751698), ('infus', 0.9512263762517535), ('lemon', 0.9470704486920584), ('fragrant', 0.9453203142423285), ('jalapeno', 0.9424804600226984), ('extract', 0.941486682233247), ('irish', 0.9385712593929587), ('add', 0.936325095299822)]\n",
      "\n",
      "Words similar to groceri are: \n",
      "[('grocer', 0.9919648965189576), ('kroger', 0.9712826620152334), ('farmer', 0.9587456912371041), ('glad', 0.9451802067001793), ('carri', 0.9446984502740545), ('local', 0.9230535491925294), ('internet', 0.9207187240881336), ('futur', 0.9149220264432253), ('bulk', 0.9054954932406101), ('california', 0.8938581678654517)]\n",
      "\n",
      "Words similar to anchovi are: \n",
      "[('feel', 0.9734247851850683), ('afraid', 0.9659268358852194), ('actual', 0.9583898383283357), ('laxat', 0.9577747881258879), ('either', 0.9569423954355996), ('biscuit', 0.9557583825857894), ('aint', 0.9549996437782606), ('lentil', 0.952833417172252), ('kid', 0.9501383898855471), ('fluid', 0.9496274813802257)]\n",
      "\n"
     ]
    }
   ],
   "source": [
    "words = ['gorgeous', 'burger', 'garlic', 'egg', 'ice', 'honey', 'lemongrass', 'habanero', 'groceri', 'anchovi']\n",
    "n = 10\n",
    "for word in words:\n",
    "    similar = get_top_n_similarity(word, top_n_words, reduced_co_occur_matrix, n)\n",
    "    print('Words similar to {} are: \\n{}\\n'.format(word, similar))"
   ]
  },
  {
   "cell_type": "markdown",
   "metadata": {},
   "source": [
    "### Pseudo-code\n",
    "1. Vectorize data using TfidfVectorizer.\n",
    "2. Get top_n words from the vectorized data.\n",
    "3. Find sentences that contain any of the top_n words\n",
    "4. Go through each sentence and create the co-occurence matrix using 5 as the value of search for nearest neighbors.\n",
    "5. Run SVD using different values against the co-occurence matrix and choose the one that has the maximum explained ratio or the one that has 90%.\n",
    "6. Run KMeans using the co-occurence matrix and find the optimal k using elbow method.\n",
    "7. Run KMeans using the optimal K and group words and clusters together.\n",
    "8. Chose difference words from each cluster and run similarty to understand similar words in the corpus.\n",
    "\n",
    "|Word|Similar words|\n",
    "| -------------:|-------------:|\n",
    "|gorgeous|('hit', 0.9468286690993001), ('famous', 0.9450705948715263), ('flower', 0.9441520515651028), ('impress', 0.9409283650580673), ('fan', 0.9340434619809425), ('leav', 0.9330396769093743), ('fragranc', 0.9326901143487611), ('exagger', 0.932377101754313), ('along', 0.9323321677890796), ('generous', 0.9321919707750645)|\n",
    "|burger |('honey', 0.9711999053242796), ('ice', 0.9667690630478392), ('ham', 0.9580571540719585), ('beverag', 0.957953049459939), ('breakfast', 0.957556823924024), ('hotter', 0.955170992411224), ('kick', 0.9496333819862972), ('grill', 0.9488227399582313), ('liber', 0.9483750522785287), ('juic', 0.9436805701182144)|\n",
    "|garlic |('heat', 0.9830248817126689), ('blend', 0.9819799333508338), ('acid', 0.9763238333650436), ('ad', 0.9739623570021548), ('kick', 0.9738625180677003), ('lemon', 0.973461519968139), ('blueberri', 0.9730341011535468), ('ginger', 0.9726149629008252), ('add', 0.9719659359314512), ('honey', 0.9708635416544893)|\n",
    "|egg |('beverag', 0.9733720792195467), ('juic', 0.9730120994582809), ('fri', 0.9726263411887283), ('leaf', 0.971966397148869), ('addit', 0.9718363980183078), ('homemad', 0.9700398092036437), ('grill', 0.9686373639809369), ('goe', 0.9662971648878149), ('especi', 0.9646925415486268), ('caffein', 0.9639963175535364)|\n",
    "|ice |('honey', 0.9917941544778096), ('beverag', 0.9781826929473613), ('juic', 0.9773446301983963), ('kick', 0.9769101663952211), ('brew', 0.9752190237969462), ('ginger', 0.9744015164564085), ('espresso', 0.9735669260158686), ('grill', 0.9735634346965928), ('frost', 0.9721968140082374), ('glaze', 0.9712392447164603)|\n",
    "|honey |('ice', 0.9917941544778096), ('ginger', 0.9839281047777534), ('juic', 0.9827974247104724), ('ham', 0.9787766992441239), ('caffein', 0.9778507247568066), ('lavend', 0.9761832936828085), ('kick', 0.9749854237865753), ('almond', 0.9734334401040889), ('grill', 0.9721862884440503), ('hot', 0.9718528678125813)|\n",
    "|lemongrass |('extract', 0.9655511132997325), ('cardamom', 0.9615937006027213), ('essenc', 0.9526744013010165), ('infus', 0.9482364348069007), ('anis', 0.9475828107723756), ('lime', 0.9434816777886722), ('lemon', 0.9408482771704721), ('lecithin', 0.9402287406032118), ('blend', 0.9340668027520024), ('blackberri', 0.9260141329631243)|\n",
    "|habanero |('heat', 0.9671972916697417), ('blend', 0.9596478365112436), ('garlic', 0.9580058723751698), ('infus', 0.9512263762517535), ('lemon', 0.9470704486920584), ('fragrant', 0.9453203142423285), ('jalapeno', 0.9424804600226984), ('extract', 0.941486682233247), ('irish', 0.9385712593929587), ('add', 0.936325095299822)|\n",
    "|groceri| ('grocer', 0.9919648965189576), ('kroger', 0.9712826620152334), ('farmer', 0.9587456912371041), ('glad', 0.9451802067001793), ('carri', 0.9446984502740545), ('local', 0.9230535491925294), ('internet', 0.9207187240881336), ('futur', 0.9149220264432253), ('bulk', 0.9054954932406101), ('california', 0.8938581678654517)|\n",
    "|anchovi |('feel', 0.9734247851850683), ('afraid', 0.9659268358852194), ('actual', 0.9583898383283357), ('laxat', 0.9577747881258879), ('either', 0.9569423954355996), ('biscuit', 0.9557583825857894), ('aint', 0.9549996437782606), ('lentil', 0.952833417172252), ('kid', 0.9501383898855471), ('fluid', 0.9496274813802257))|"
   ]
  },
  {
   "cell_type": "code",
   "execution_count": null,
   "metadata": {},
   "outputs": [],
   "source": []
  }
 ],
 "metadata": {
  "kernelspec": {
   "display_name": "py_3_6_5_keras",
   "language": "python",
   "name": "py_3_6_5_keras"
  },
  "language_info": {
   "codemirror_mode": {
    "name": "ipython",
    "version": 3
   },
   "file_extension": ".py",
   "mimetype": "text/x-python",
   "name": "python",
   "nbconvert_exporter": "python",
   "pygments_lexer": "ipython3",
   "version": "3.6.5"
  }
 },
 "nbformat": 4,
 "nbformat_minor": 2
}

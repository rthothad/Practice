{
 "cells": [
  {
   "cell_type": "markdown",
   "metadata": {},
   "source": [
    "## Goal\n",
    "Using Amazon Food reviews\n",
    "1. Featurize/Vectorize - BoW, tfIDF\n",
    "2. Preprocess\n",
    "3. Train/Test split using time based slicing as a 70-30 split\n",
    "4. For BoW and TfIDF:\n",
    "   1. Use 10-fold cross validation to find optimal/best alpha in Multinomial NB\n",
    "   2. Report list of important features for both +ve and -ve reviews\n",
    "   3. Report test accuracy, Confusion Matrix, Precision, Recall, F1Score, TPR, FPR, FNR and TNR with the best alpha\n",
    "\n",
    "\n",
    "### Data\n",
    "The Amazon fine food reviews dataset is available [here](https://www.kaggle.com/snap/amazon-fine-food-reviews/downloads/database.sqlite/2). The SQLLite version(database.sqlite) of the dataset is used. A folder called 'amazon-fine-food-reviews' needs to be created in the working directory and downloaded to that folder."
   ]
  },
  {
   "cell_type": "code",
   "execution_count": 1,
   "metadata": {},
   "outputs": [
    {
     "name": "stderr",
     "output_type": "stream",
     "text": [
      "d:\\Tools\\Miniconda3\\envs\\py_3_6_5_keras\\lib\\site-packages\\gensim\\utils.py:1209: UserWarning: detected Windows; aliasing chunkize to chunkize_serial\n",
      "  warnings.warn(\"detected Windows; aliasing chunkize to chunkize_serial\")\n"
     ]
    }
   ],
   "source": [
    "import numpy as np\n",
    "import pandas as pd\n",
    "import matplotlib.pyplot as plt\n",
    "\n",
    "from sklearn.naive_bayes import MultinomialNB\n",
    "\n",
    "from sklearn.model_selection import TimeSeriesSplit, GridSearchCV\n",
    "from sklearn.preprocessing import StandardScaler\n",
    "from sklearn.feature_extraction.text import TfidfTransformer, TfidfVectorizer, CountVectorizer\n",
    "from sklearn.metrics import confusion_matrix, f1_score, classification_report, make_scorer, accuracy_score\n",
    "from sklearn import metrics\n",
    "from sklearn.decomposition import TruncatedSVD\n",
    "\n",
    "import itertools, pickle, random, sqlite3, nltk, string, re\n",
    "from pathlib import Path\n",
    "from scipy import sparse\n",
    "\n",
    "import warnings\n",
    "warnings.filterwarnings(\"ignore\")\n",
    "\n",
    "import seaborn as sns\n",
    "from nltk.stem.porter import PorterStemmer\n",
    "from nltk.corpus import stopwords\n",
    "from nltk.stem import PorterStemmer\n",
    "from nltk.stem.wordnet import WordNetLemmatizer\n",
    "\n",
    "from gensim.models import Word2Vec, KeyedVectors"
   ]
  },
  {
   "cell_type": "markdown",
   "metadata": {},
   "source": [
    "### Load Data"
   ]
  },
  {
   "cell_type": "code",
   "execution_count": 2,
   "metadata": {},
   "outputs": [],
   "source": [
    "# using the SQLite Table to read data.\n",
    "con = sqlite3.connect('./amazon-fine-food-reviews/database.sqlite') \n",
    "\n",
    "#filtering only positive and negative reviews i.e. \n",
    "# not considering those reviews with Score=3\n",
    "filtered_data = pd.read_sql_query(\"\"\" SELECT * FROM Reviews WHERE Score != 3 \"\"\", con) "
   ]
  },
  {
   "cell_type": "code",
   "execution_count": 3,
   "metadata": {},
   "outputs": [
    {
     "name": "stdout",
     "output_type": "stream",
     "text": [
      "Total number of reviews is 525814 with 10 features each\n"
     ]
    },
    {
     "data": {
      "text/html": [
       "<div>\n",
       "<style scoped>\n",
       "    .dataframe tbody tr th:only-of-type {\n",
       "        vertical-align: middle;\n",
       "    }\n",
       "\n",
       "    .dataframe tbody tr th {\n",
       "        vertical-align: top;\n",
       "    }\n",
       "\n",
       "    .dataframe thead th {\n",
       "        text-align: right;\n",
       "    }\n",
       "</style>\n",
       "<table border=\"1\" class=\"dataframe\">\n",
       "  <thead>\n",
       "    <tr style=\"text-align: right;\">\n",
       "      <th></th>\n",
       "      <th>Id</th>\n",
       "      <th>ProductId</th>\n",
       "      <th>UserId</th>\n",
       "      <th>ProfileName</th>\n",
       "      <th>HelpfulnessNumerator</th>\n",
       "      <th>HelpfulnessDenominator</th>\n",
       "      <th>Score</th>\n",
       "      <th>Time</th>\n",
       "      <th>Summary</th>\n",
       "      <th>Text</th>\n",
       "    </tr>\n",
       "  </thead>\n",
       "  <tbody>\n",
       "    <tr>\n",
       "      <th>0</th>\n",
       "      <td>1</td>\n",
       "      <td>B001E4KFG0</td>\n",
       "      <td>A3SGXH7AUHU8GW</td>\n",
       "      <td>delmartian</td>\n",
       "      <td>1</td>\n",
       "      <td>1</td>\n",
       "      <td>positive</td>\n",
       "      <td>1303862400</td>\n",
       "      <td>Good Quality Dog Food</td>\n",
       "      <td>I have bought several of the Vitality canned d...</td>\n",
       "    </tr>\n",
       "    <tr>\n",
       "      <th>1</th>\n",
       "      <td>2</td>\n",
       "      <td>B00813GRG4</td>\n",
       "      <td>A1D87F6ZCVE5NK</td>\n",
       "      <td>dll pa</td>\n",
       "      <td>0</td>\n",
       "      <td>0</td>\n",
       "      <td>negative</td>\n",
       "      <td>1346976000</td>\n",
       "      <td>Not as Advertised</td>\n",
       "      <td>Product arrived labeled as Jumbo Salted Peanut...</td>\n",
       "    </tr>\n",
       "    <tr>\n",
       "      <th>2</th>\n",
       "      <td>3</td>\n",
       "      <td>B000LQOCH0</td>\n",
       "      <td>ABXLMWJIXXAIN</td>\n",
       "      <td>Natalia Corres \"Natalia Corres\"</td>\n",
       "      <td>1</td>\n",
       "      <td>1</td>\n",
       "      <td>positive</td>\n",
       "      <td>1219017600</td>\n",
       "      <td>\"Delight\" says it all</td>\n",
       "      <td>This is a confection that has been around a fe...</td>\n",
       "    </tr>\n",
       "    <tr>\n",
       "      <th>3</th>\n",
       "      <td>4</td>\n",
       "      <td>B000UA0QIQ</td>\n",
       "      <td>A395BORC6FGVXV</td>\n",
       "      <td>Karl</td>\n",
       "      <td>3</td>\n",
       "      <td>3</td>\n",
       "      <td>negative</td>\n",
       "      <td>1307923200</td>\n",
       "      <td>Cough Medicine</td>\n",
       "      <td>If you are looking for the secret ingredient i...</td>\n",
       "    </tr>\n",
       "    <tr>\n",
       "      <th>4</th>\n",
       "      <td>5</td>\n",
       "      <td>B006K2ZZ7K</td>\n",
       "      <td>A1UQRSCLF8GW1T</td>\n",
       "      <td>Michael D. Bigham \"M. Wassir\"</td>\n",
       "      <td>0</td>\n",
       "      <td>0</td>\n",
       "      <td>positive</td>\n",
       "      <td>1350777600</td>\n",
       "      <td>Great taffy</td>\n",
       "      <td>Great taffy at a great price.  There was a wid...</td>\n",
       "    </tr>\n",
       "  </tbody>\n",
       "</table>\n",
       "</div>"
      ],
      "text/plain": [
       "   Id   ProductId          UserId                      ProfileName  \\\n",
       "0   1  B001E4KFG0  A3SGXH7AUHU8GW                       delmartian   \n",
       "1   2  B00813GRG4  A1D87F6ZCVE5NK                           dll pa   \n",
       "2   3  B000LQOCH0   ABXLMWJIXXAIN  Natalia Corres \"Natalia Corres\"   \n",
       "3   4  B000UA0QIQ  A395BORC6FGVXV                             Karl   \n",
       "4   5  B006K2ZZ7K  A1UQRSCLF8GW1T    Michael D. Bigham \"M. Wassir\"   \n",
       "\n",
       "   HelpfulnessNumerator  HelpfulnessDenominator     Score        Time  \\\n",
       "0                     1                       1  positive  1303862400   \n",
       "1                     0                       0  negative  1346976000   \n",
       "2                     1                       1  positive  1219017600   \n",
       "3                     3                       3  negative  1307923200   \n",
       "4                     0                       0  positive  1350777600   \n",
       "\n",
       "                 Summary                                               Text  \n",
       "0  Good Quality Dog Food  I have bought several of the Vitality canned d...  \n",
       "1      Not as Advertised  Product arrived labeled as Jumbo Salted Peanut...  \n",
       "2  \"Delight\" says it all  This is a confection that has been around a fe...  \n",
       "3         Cough Medicine  If you are looking for the secret ingredient i...  \n",
       "4            Great taffy  Great taffy at a great price.  There was a wid...  "
      ]
     },
     "execution_count": 3,
     "metadata": {},
     "output_type": "execute_result"
    }
   ],
   "source": [
    "# Give reviews with Score>3 a positive rating, and reviews with a score<3 a negative rating.\n",
    "def partition(x):\n",
    "    if x < 3:\n",
    "        return 'negative'\n",
    "    return 'positive'\n",
    "\n",
    "#change reviews with score less than 3 to be positive and vice-versa\n",
    "actualScore = filtered_data['Score']\n",
    "positiveNegative = actualScore.map(partition) \n",
    "filtered_data['Score'] = positiveNegative\n",
    "print ('Total number of reviews is {} with {} features each'.format(*filtered_data.shape))\n",
    "filtered_data.head()"
   ]
  },
  {
   "cell_type": "markdown",
   "metadata": {},
   "source": [
    "### EDA\n",
    "\n",
    "#### Remove Duplicates"
   ]
  },
  {
   "cell_type": "code",
   "execution_count": 4,
   "metadata": {},
   "outputs": [],
   "source": [
    "#Sorting data according to ProductId in ascending order\n",
    "sorted_data=filtered_data.sort_values('ProductId', axis=0, ascending=True, inplace=False, kind='quicksort', na_position='last')\n",
    "#Deduplication of entries\n",
    "final=sorted_data.drop_duplicates(subset={\"UserId\",\"ProfileName\",\"Time\",\"Text\"}, keep='first', inplace=False)"
   ]
  },
  {
   "cell_type": "markdown",
   "metadata": {},
   "source": [
    "#### Data Cleanup"
   ]
  },
  {
   "cell_type": "code",
   "execution_count": 5,
   "metadata": {},
   "outputs": [
    {
     "name": "stdout",
     "output_type": "stream",
     "text": [
      "(364171, 10)\n"
     ]
    },
    {
     "data": {
      "text/plain": [
       "positive    307061\n",
       "negative     57110\n",
       "Name: Score, dtype: int64"
      ]
     },
     "execution_count": 5,
     "metadata": {},
     "output_type": "execute_result"
    }
   ],
   "source": [
    "final=final[final.HelpfulnessNumerator<=final.HelpfulnessDenominator]\n",
    "#Before starting the next phase of preprocessing lets see the number of entries left\n",
    "print(final.shape)\n",
    "\n",
    "#How many positive and negative reviews are present in our dataset?\n",
    "final['Score'].value_counts()"
   ]
  },
  {
   "cell_type": "markdown",
   "metadata": {},
   "source": [
    "#### Note:\n",
    "The dataset is imbalanced. So the metric to evaluate the model should not be accuracy, it could be confusion matrix \n",
    "\n",
    "### PreProcessing\n",
    "\n",
    "#### Stemming, Stop word remove and Lemmatization"
   ]
  },
  {
   "cell_type": "code",
   "execution_count": 6,
   "metadata": {},
   "outputs": [
    {
     "name": "stdout",
     "output_type": "stream",
     "text": [
      "The stop words are \n",
      " {'where', 'off', 'after', 'before', 'having', 'yourself', 'am', 'do', 'o', \"she's\", 'down', \"shan't\", 'through', 'below', 'aren', 'same', \"it's\", 'wasn', 'too', 'if', 'nor', 'have', 'very', 'more', 'and', \"wouldn't\", \"that'll\", \"you'll\", 'herself', 'those', 'hers', \"wasn't\", \"weren't\", 'other', 'will', 'or', 'again', 'not', 'isn', 'so', \"mightn't\", 'but', 'in', 'only', 'weren', 'out', 'be', 'she', 've', 'you', 'needn', \"couldn't\", 'was', 'what', 'didn', 'me', 'himself', \"aren't\", 'mightn', 'for', 'of', 'these', 'here', 'wouldn', 'hadn', 'has', \"you'd\", 't', 'now', 'can', 'ain', 'because', 'had', 'mustn', 'he', 'whom', 'y', 'this', 'own', 'at', 'they', 'i', 'few', 'than', 'did', 'our', \"doesn't\", 'theirs', \"isn't\", 'does', 'haven', 'is', 'doesn', 'under', \"mustn't\", 'up', 'no', 'my', 'your', 'are', 'who', 'about', 'on', 'how', 'shouldn', 'a', 'until', 'their', 'from', 'couldn', 'yourselves', 'his', 'some', 'an', 'against', 'each', 'shan', 'ma', 'all', 'which', 'over', 'hasn', 'above', 'we', \"don't\", 'don', 'yours', 'ourselves', 'between', \"won't\", 'her', 'just', 'its', 'most', 'll', 'by', 'were', \"shouldn't\", \"haven't\", 'why', 'to', 're', 'myself', 'him', 'been', \"needn't\", 'that', 'won', 'doing', \"didn't\", 'should', 'm', 'them', 's', \"hadn't\", 'any', 'both', \"hasn't\", \"should've\", 'with', 'while', 'during', 'd', 'further', 'it', 'then', 'such', 'when', 'there', \"you've\", 'ours', 'themselves', 'itself', 'once', \"you're\", 'into', 'the', 'being', 'as'}\n",
      "************************************************************\n",
      "The stem word for tasty is tasti\n"
     ]
    }
   ],
   "source": [
    "stop = set(stopwords.words('english')) #set of stopwords\n",
    "sno = nltk.stem.SnowballStemmer('english') #initialising the snowball stemmer\n",
    "\n",
    "def cleanhtml(sentence): #function to clean the word of any html-tags\n",
    "    cleanr = re.compile('<.*?>')\n",
    "    cleantext = re.sub(cleanr, ' ', sentence)\n",
    "    return cleantext\n",
    "def cleanpunc(sentence): #function to clean the word of any punctuation or special characters\n",
    "    cleaned = re.sub(r'[?|!|\\'|\"|#]',r'',sentence)\n",
    "    cleaned = re.sub(r'[.|,|)|(|\\|/]',r' ',cleaned)\n",
    "    return  cleaned\n",
    "print('The stop words are \\n {}'.format(stop))\n",
    "print('************************************************************')\n",
    "print('The stem word for tasty is {}'.format(sno.stem('tasty')))"
   ]
  },
  {
   "cell_type": "markdown",
   "metadata": {},
   "source": [
    "We need 3 types of cleaned data so we will use 3 different variables to store this data:\n",
    "1. For Bag of Words and TfIDF we need the stop words to be removed and stemmed\n",
    "2. For Bigrams and trigrams we do not need to remove the stop words but we can stem the words\n",
    "3. For Avg Word2Vec and TfIDF Word2Vec we can remove the stopwords but not stem the words if we plan to use Google's word2vec model."
   ]
  },
  {
   "cell_type": "code",
   "execution_count": 7,
   "metadata": {},
   "outputs": [],
   "source": [
    "i=0\n",
    "str_b=' '\n",
    "bow_tfidf_string=[]\n",
    "s=''\n",
    "for sent in final['Text'].values:\n",
    "    filtered_sentence_b=[]\n",
    "    \n",
    "    sent=cleanhtml(sent) # remove HTMl tags\n",
    "    for w in sent.split():\n",
    "        for cleaned_words in cleanpunc(w).split():\n",
    "            if((cleaned_words.isalpha()) & (len(cleaned_words)>2)): \n",
    "                s=(sno.stem(cleaned_words.lower())).encode('utf8')\n",
    "                if(cleaned_words.lower() not in stop):\n",
    "                    filtered_sentence_b.append(s) #for BoW and tfidf we need stemmed and stop words removed data\n",
    "                else:\n",
    "                    continue\n",
    "            else:\n",
    "                continue \n",
    "    \n",
    "    \n",
    "    str_b = b\" \".join(filtered_sentence_b)\n",
    "    \n",
    "    bow_tfidf_string.append(str_b)\n",
    "\n",
    "    i+=1"
   ]
  },
  {
   "cell_type": "code",
   "execution_count": 8,
   "metadata": {},
   "outputs": [],
   "source": [
    "final['BowTfIDFText']=bow_tfidf_string \n",
    "final['BowTfIDFText']=final['BowTfIDFText'].str.decode(\"utf-8\")"
   ]
  },
  {
   "cell_type": "code",
   "execution_count": 9,
   "metadata": {},
   "outputs": [],
   "source": [
    "# store final table into an SQlLite table for future.\n",
    "final_dbconn = sqlite3.connect('./amazon-fine-food-reviews/finaldb.sqlite')\n",
    "c=final_dbconn.cursor()\n",
    "final_dbconn.text_factory = str\n",
    "final.to_sql('Reviews', final_dbconn,  schema=None, if_exists='replace', index=True, index_label=None, chunksize=None, dtype=None)"
   ]
  },
  {
   "cell_type": "markdown",
   "metadata": {},
   "source": [
    "### Train and Predict Model"
   ]
  },
  {
   "cell_type": "code",
   "execution_count": 2,
   "metadata": {},
   "outputs": [],
   "source": [
    "def plot_confusion_matrix(cm, classes,\n",
    "                          normalize=False,\n",
    "                          title='Confusion matrix',\n",
    "                          figsize = (5,3),\n",
    "                          cmap=plt.cm.Blues):\n",
    "    \"\"\"\n",
    "    This function prints and plots the confusion matrix.\n",
    "    Normalization can be applied by setting `normalize=True`.\n",
    "    \"\"\"\n",
    "    if normalize:\n",
    "        cm = cm.astype('float') / cm.sum(axis=1)[:, np.newaxis]\n",
    "#         print(\"Normalized confusion matrix\")\n",
    "#     else:\n",
    "#         print('Confusion matrix, without normalization')\n",
    "\n",
    "#     print(cm)\n",
    "\n",
    "#     plt.figure(figsize=(4,2))\n",
    "    plt.figure(figsize=figsize)\n",
    "    plt.imshow(cm, interpolation='nearest', cmap=cmap)\n",
    "    plt.title(title)\n",
    "    plt.colorbar()\n",
    "    tick_marks = np.arange(len(classes))\n",
    "    plt.xticks(tick_marks, classes, rotation=45)\n",
    "    plt.yticks(tick_marks, classes)\n",
    "\n",
    "    fmt = '.2f' if normalize else 'd'\n",
    "    thresh = cm.max() / 2.\n",
    "    for i, j in itertools.product(range(cm.shape[0]), range(cm.shape[1])):\n",
    "        plt.text(j, i, format(cm[i, j], fmt),\n",
    "                 horizontalalignment=\"center\",\n",
    "                 color=\"white\" if cm[i, j] > thresh else \"black\")\n",
    "\n",
    "    plt.ylabel('True label')\n",
    "    plt.xlabel('Predicted label')\n",
    "    plt.tight_layout()\n",
    "    plt.show()"
   ]
  },
  {
   "cell_type": "markdown",
   "metadata": {},
   "source": [
    "### Run Classifier\n",
    "Given a dataset of X, y the below function\n",
    "1. Splits the dataset into train and test.\n",
    "2. Executes NB classifier.\n",
    "3. Executes the classifier for varying values of 'alpha'.\n",
    "4. Calculates the optimal 'alpha' value from the above step.\n",
    "5. Uses the optimal 'alpha' value to run the classifier against the test dataset."
   ]
  },
  {
   "cell_type": "code",
   "execution_count": 20,
   "metadata": {},
   "outputs": [],
   "source": [
    "def split_data(data, sort_by_time='Y', test_size=0.3):\n",
    "    \n",
    "    if sort_by_time == 'Y':\n",
    "        data = data.sort_values(by='Time')\n",
    "        data.reset_index(inplace=True,drop=True)\n",
    "        \n",
    "    train_index = int(np.floor(data.shape[0] * (1- test_size)))\n",
    "\n",
    "    X_train = data.loc[:train_index]\n",
    "    y_train = X_train.Score\n",
    "    X_train.drop(['Score'], axis=1, inplace=True)\n",
    "    \n",
    "\n",
    "    X_test = data.loc[train_index:]\n",
    "    y_test = X_test.Score\n",
    "    X_test.drop(['Score'], axis=1, inplace=True)\n",
    "    \n",
    "    return X_train, y_train, X_test, y_test\n",
    "\n",
    "def plot_cv_scores(gridsearch, x_axis_label, y_axis_label, title):\n",
    "    X = [mean for mean in gridsearch.cv_results_['mean_test_score']]\n",
    "    y = [params['alpha'] for params in gridsearch.cv_results_['params']]\n",
    "    \n",
    "    plt.plot(X, y)\n",
    "    plt.xlabel(x_axis_label)\n",
    "    plt.ylabel(y_axis_label)\n",
    "    \n",
    "    plt.title(title)\n",
    "    plt.grid() \n",
    "\n",
    "    plt.show()\n",
    "\n",
    "def run_classifier(data, vectorize_technique, k=5):\n",
    "    if vectorize_technique not in ['bow', 'tfidf']:\n",
    "        print ('Allowed vectorization techniques are Bag Of Words(BoW) and TF-IDF(tfidf)')\n",
    "        return\n",
    "    \n",
    "    X_train, y_train, X_test, y_test = split_data(data, sort_by_time='Y')\n",
    "    \n",
    "    #Create X_train with just the vectors\n",
    "    if vectorize_technique == 'bow':\n",
    "        X_train, X_test, vectorizer = vectorize_bow(X_train, X_test)\n",
    "    elif vectorize_technique == 'tfidf':\n",
    "        X_train, X_test, vectorizer = vectorize_tfidf(X_train, X_test)\n",
    "        \n",
    "    cv = 10\n",
    "    #Use TimeSeriesSplit for cross validation\n",
    "    tscv = TimeSeriesSplit(n_splits=cv)\n",
    "    \n",
    "#     alphas =[1, 0.1, 0.01, 0.001, 0.0001, 0.00001, 0.000001, 0.0000001]\n",
    "    alphas = [10**-4, 10**-2, 10**0, 10**2, 10**3]\n",
    "    \n",
    "    param_grid = {'alpha': alphas}\n",
    "    mnb_clf = MultinomialNB()\n",
    "    \n",
    "    print ('-' *80)\n",
    "    train_test_split = tscv.split(X_train)\n",
    "    print ('Doing Gridsearch .....')\n",
    "    f1_scorer = make_scorer(f1_score, pos_label='positive')\n",
    "#     accuracy_scorer = make_scorer(accuracy_score, pos_label='positive')\n",
    "    \n",
    "#     scoring = {'f1_score': 'f1', 'Accuracy': 'accuracy'}\n",
    "    \n",
    "    gs = GridSearchCV(mnb_clf, param_grid, cv = train_test_split, n_jobs=-1,verbose=5, scoring= 'accuracy')\n",
    "    gs.fit(X_train, y_train)\n",
    "    print ('Calculating best score from grid search. Metric used is Accuracy')\n",
    "    print ('Best Accuracy score: ', gs.best_score_)\n",
    "    \n",
    "    print ('Best parameters set from Accuracy Score:')\n",
    "    best_parameters = gs.best_estimator_.get_params()\n",
    "    for param_name in sorted(param_grid.keys()):\n",
    "        print (param_name, best_parameters[param_name])\n",
    "\n",
    "    plot_cv_scores(gs, 'Accuracy', 'Alphas', 'Plot of CV Accuracy Scores')\n",
    "    \n",
    "    train_test_split = tscv.split(X_train)\n",
    "    gs = GridSearchCV(mnb_clf, param_grid, cv = train_test_split, n_jobs=-1,verbose=5, scoring= f1_scorer)\n",
    "    gs.fit(X_train, y_train)\n",
    "    print ('Calculating best score from grid search. Metric used is F1 Score.')\n",
    "    print ('Best F1 score: ', gs.best_score_)\n",
    "\n",
    "    print ('Best parameters set from F1 Score:')\n",
    "    best_parameters = gs.best_estimator_.get_params()\n",
    "    for param_name in sorted(param_grid.keys()):\n",
    "        print (param_name, best_parameters[param_name])\n",
    "    \n",
    "    plot_cv_scores(gs, 'F1 Scores', 'Alphas', 'Plot of CV F1 Scores')\n",
    "    \n",
    "    print ('Dimensions of X_test is {} and y_test is {}'.format (X_test.shape, y_test.shape))\n",
    "    print ('Predicting with X_test with parameters from F1 Score.....')\n",
    "    \n",
    "    alpha = best_parameters['alpha']\n",
    "    mnb_clf = MultinomialNB(alpha=alpha)\n",
    "    mnb_clf.fit(X_train, y_train)\n",
    "    y_pred = mnb_clf.predict(X_test)\n",
    "    \n",
    "    print ('Classification report is .....')\n",
    "    print (classification_report(y_test, y_pred))\n",
    "    print ('Confusion Matrix is .....')\n",
    "    cm = confusion_matrix(y_test, y_pred)\n",
    "    plot_confusion_matrix(cm, ['Negative', 'Positive'])\n",
    "    \n",
    "    neg_class_prob_sorted = mnb_clf.feature_log_prob_[0, :].argsort()\n",
    "    pos_class_prob_sorted = mnb_clf.feature_log_prob_[1, :].argsort()\n",
    "\n",
    "    print('The top 10 negative words are {}'.format(np.take(vectorizer.get_feature_names(), neg_class_prob_sorted[-10:])))\n",
    "    print('The top 10 positive words are {}'.format(np.take(vectorizer.get_feature_names(), pos_class_prob_sorted[-10:])))"
   ]
  },
  {
   "cell_type": "markdown",
   "metadata": {},
   "source": [
    "## Bag of Words"
   ]
  },
  {
   "cell_type": "code",
   "execution_count": 4,
   "metadata": {},
   "outputs": [],
   "source": [
    "def get_bow_tfidfdata(no_of_records = 2000):\n",
    "    #The original dataset has approximately 85% positive reviews and 15% negative reviews, so we will use the same % to make\n",
    "    #a subset \n",
    "    pos_limit = int(no_of_records * 0.85)\n",
    "    neg_limit = no_of_records - pos_limit\n",
    "\n",
    "    final_dbconn = sqlite3.connect('./amazon-fine-food-reviews/finaldb.sqlite')\n",
    "    final_dbconn.text_factory = str\n",
    "\n",
    "    pos_qry = \"SELECT time, BowTfIDFText, Score FROM Reviews where Score = 'positive' LIMIT \" + str(pos_limit)\n",
    "    pos_reviews = pd.read_sql_query(pos_qry, final_dbconn) \n",
    "    print('Positive reviews shape is {}'.format(pos_reviews.shape))\n",
    "\n",
    "    neg_qry = \"SELECT time, BowTfIDFText, Score FROM Reviews where Score = 'negative' LIMIT \" + str(neg_limit)\n",
    "    neg_reviews = pd.read_sql_query(neg_qry, final_dbconn) \n",
    "    print('Negative reviews shape is {}'.format(neg_reviews.shape))\n",
    "\n",
    "    frames = [pos_reviews, neg_reviews]\n",
    "\n",
    "    data = pd.concat(frames, ignore_index=True)\n",
    "    print('Both positive and negative reviews combined together contains {} reviews'.format(data.shape[0]))\n",
    "    return data"
   ]
  },
  {
   "cell_type": "code",
   "execution_count": 5,
   "metadata": {},
   "outputs": [],
   "source": [
    "def vectorize_bow(X_train, X_test):\n",
    "    #Vectorize the reviews\n",
    "    count_vect = CountVectorizer() \n",
    "    \n",
    "    #Build vocabulary from X_train\n",
    "    X_train_counts = count_vect.fit_transform(X_train['BowTfIDFText'].values)\n",
    "    X_test_counts = count_vect.transform(X_test['BowTfIDFText'].values)\n",
    "    \n",
    "    print(\"Shape of vectorized train and test datasets are {} and {}\".format(X_train_counts.get_shape(), X_test_counts.get_shape()) )\n",
    "    print(\"Number of unique words in the dataset is \", X_train_counts.get_shape()[1])\n",
    "    print ('Type of bow_counts ', type(X_train_counts))\n",
    "    \n",
    "    X_train_std_data = StandardScaler(with_mean = False).fit_transform(X_train_counts)\n",
    "    print ('Type of std_bow_data is {}'.format(type(X_train_std_data)))\n",
    "    print ('Standardized Bag of Words review contains {} records with {} features each'.format(*X_train_std_data.shape))\n",
    "\n",
    "    #vectorize the test set with the same vocabulary as train data set\n",
    "    print(\"The shape of our BOW vectorized test dataset is {}\".format(X_test_counts.get_shape()))\n",
    "\n",
    "    X_test_std_data = StandardScaler(with_mean = False).fit_transform(X_test_counts)\n",
    "    return X_train_std_data, X_test_std_data, count_vect"
   ]
  },
  {
   "cell_type": "code",
   "execution_count": 21,
   "metadata": {},
   "outputs": [
    {
     "name": "stdout",
     "output_type": "stream",
     "text": [
      "Positive reviews shape is (307061, 3)\n",
      "Negative reviews shape is (54626, 3)\n",
      "Both positive and negative reviews combined together contains 361687 reviews\n",
      "Shape of vectorized train and test datasets are (253181, 58985) and (108507, 58985)\n",
      "Number of unique words in the dataset is  58985\n",
      "Type of bow_counts  <class 'scipy.sparse.csr.csr_matrix'>\n"
     ]
    },
    {
     "name": "stderr",
     "output_type": "stream",
     "text": [
      "d:\\Tools\\Miniconda3\\envs\\py_3_6_5_keras\\lib\\site-packages\\sklearn\\utils\\validation.py:475: DataConversionWarning: Data with input dtype int64 was converted to float64 by StandardScaler.\n",
      "  warnings.warn(msg, DataConversionWarning)\n",
      "d:\\Tools\\Miniconda3\\envs\\py_3_6_5_keras\\lib\\site-packages\\sklearn\\utils\\validation.py:475: DataConversionWarning: Data with input dtype int64 was converted to float64 by StandardScaler.\n",
      "  warnings.warn(msg, DataConversionWarning)\n"
     ]
    },
    {
     "name": "stdout",
     "output_type": "stream",
     "text": [
      "Type of std_bow_data is <class 'scipy.sparse.csr.csr_matrix'>\n",
      "Standardized Bag of Words review contains 253181 records with 58985 features each\n",
      "The shape of our BOW vectorized test dataset is (108507, 58985)\n",
      "--------------------------------------------------------------------------------\n",
      "Doing Gridsearch .....\n",
      "Fitting 10 folds for each of 5 candidates, totalling 50 fits\n"
     ]
    },
    {
     "name": "stderr",
     "output_type": "stream",
     "text": [
      "d:\\Tools\\Miniconda3\\envs\\py_3_6_5_keras\\lib\\site-packages\\sklearn\\utils\\validation.py:475: DataConversionWarning: Data with input dtype int64 was converted to float64 by StandardScaler.\n",
      "  warnings.warn(msg, DataConversionWarning)\n",
      "d:\\Tools\\Miniconda3\\envs\\py_3_6_5_keras\\lib\\site-packages\\sklearn\\utils\\validation.py:475: DataConversionWarning: Data with input dtype int64 was converted to float64 by StandardScaler.\n",
      "  warnings.warn(msg, DataConversionWarning)\n",
      "[Parallel(n_jobs=-1)]: Done   2 tasks      | elapsed:    2.1s\n",
      "[Parallel(n_jobs=-1)]: Done  46 out of  50 | elapsed:   18.2s remaining:    1.5s\n",
      "[Parallel(n_jobs=-1)]: Done  50 out of  50 | elapsed:   19.6s finished\n"
     ]
    },
    {
     "name": "stdout",
     "output_type": "stream",
     "text": [
      "Calculating best score from grid search. Metric used is Accuracy\n",
      "Best Accuracy score:  0.8163972888425444\n",
      "Best parameters set from Accuracy Score:\n",
      "alpha 1000\n"
     ]
    },
    {
     "data": {
      "image/png": "[encoded data removed]",
      "text/plain": [
       "<Figure size 432x288 with 1 Axes>"
      ]
     },
     "metadata": {},
     "output_type": "display_data"
    },
    {
     "name": "stdout",
     "output_type": "stream",
     "text": [
      "Fitting 10 folds for each of 5 candidates, totalling 50 fits\n"
     ]
    },
    {
     "name": "stderr",
     "output_type": "stream",
     "text": [
      "[Parallel(n_jobs=-1)]: Done   2 tasks      | elapsed:    2.3s\n",
      "[Parallel(n_jobs=-1)]: Done  46 out of  50 | elapsed:   22.1s remaining:    1.8s\n",
      "[Parallel(n_jobs=-1)]: Done  50 out of  50 | elapsed:   23.6s finished\n"
     ]
    },
    {
     "name": "stdout",
     "output_type": "stream",
     "text": [
      "Calculating best score from grid search. Metric used is F1 Score.\n",
      "Best F1 score:  0.8962903214016951\n",
      "Best parameters set from F1 Score:\n",
      "alpha 1000\n"
     ]
    },
    {
     "data": {
      "image/png": "[encoded data removed]",
      "text/plain": [
       "<Figure size 432x288 with 1 Axes>"
      ]
     },
     "metadata": {},
     "output_type": "display_data"
    },
    {
     "name": "stdout",
     "output_type": "stream",
     "text": [
      "Dimensions of X_test is (108507, 58985) and y_test is (108507,)\n",
      "Predicting with X_test with parameters from F1 Score.....\n",
      "Classification report is .....\n",
      "             precision    recall  f1-score   support\n",
      "\n",
      "   negative       0.52      0.13      0.20     17116\n",
      "   positive       0.86      0.98      0.91     91391\n",
      "\n",
      "avg / total       0.80      0.84      0.80    108507\n",
      "\n",
      "Confusion Matrix is .....\n"
     ]
    },
    {
     "data": {
      "image/png": "[encoded data removed]",
      "text/plain": [
       "<Figure size 360x216 with 2 Axes>"
      ]
     },
     "metadata": {},
     "output_type": "display_data"
    },
    {
     "name": "stdout",
     "output_type": "stream",
     "text": [
      "The top 10 negative words are ['money' 'tri' 'buy' 'bad' 'one' 'would' 'disappoint' 'product' 'like'\n",
      " 'tast']\n",
      "The top 10 positive words are ['make' 'flavor' 'use' 'one' 'tri' 'tast' 'like' 'good' 'love' 'great']\n"
     ]
    }
   ],
   "source": [
    "no_of_records=364171\n",
    "data = get_bow_tfidfdata(no_of_records)\n",
    "run_classifier(data, vectorize_technique ='bow')"
   ]
  },
  {
   "cell_type": "markdown",
   "metadata": {},
   "source": [
    "## TF-IDF"
   ]
  },
  {
   "cell_type": "code",
   "execution_count": 16,
   "metadata": {},
   "outputs": [],
   "source": [
    "def vectorize_tfidf(X_train, X_test):\n",
    "    #Vectorize the reviews\n",
    "    tf_idf_vect = TfidfVectorizer(ngram_range=(1,1))\n",
    "    \n",
    "    #Build vocabulary from X_train\n",
    "    X_train_counts = tf_idf_vect.fit_transform(X_train['BowTfIDFText'].values)\n",
    "    X_test_counts = tf_idf_vect.transform(X_test['BowTfIDFText'].values)\n",
    "    \n",
    "    print(\"Shape of vectorized train and test datasets are {} and {}\".format(X_train_counts.get_shape(), X_test_counts.get_shape()) )\n",
    "    print(\"Number of unique words in the dataset is \", X_train_counts.get_shape()[1])\n",
    "    print ('Type of bow_counts ', type(X_train_counts))\n",
    "    \n",
    "    X_train_std_data = StandardScaler(with_mean = False).fit_transform(X_train_counts)\n",
    "    print ('Type of std_bow_data is {}'.format(type(X_train_std_data)))\n",
    "    print ('Standardized Bag of Words review contains {} with {} features each'.format(*X_train_std_data.shape))\n",
    "    \n",
    "    #vectorize the test set with the same vocabulary as train data set\n",
    "    print(\"The shape of vectorized test dataset is {}\".format(X_test_counts.get_shape()))\n",
    "    \n",
    "    X_test_std_data = StandardScaler(with_mean = False).fit_transform(X_test_counts)\n",
    "    return X_train_std_data, X_test_std_data, tf_idf_vect"
   ]
  },
  {
   "cell_type": "code",
   "execution_count": 22,
   "metadata": {},
   "outputs": [
    {
     "name": "stdout",
     "output_type": "stream",
     "text": [
      "Positive reviews shape is (307061, 3)\n",
      "Negative reviews shape is (54626, 3)\n",
      "Both positive and negative reviews combined together contains 361687 reviews\n",
      "Shape of vectorized train and test datasets are (253181, 58985) and (108507, 58985)\n",
      "Number of unique words in the dataset is  58985\n",
      "Type of bow_counts  <class 'scipy.sparse.csr.csr_matrix'>\n",
      "Type of std_bow_data is <class 'scipy.sparse.csr.csr_matrix'>\n",
      "Standardized Bag of Words review contains 253181 with 58985 features each\n",
      "The shape of vectorized test dataset is (108507, 58985)\n",
      "--------------------------------------------------------------------------------\n",
      "Doing Gridsearch .....\n",
      "Fitting 10 folds for each of 5 candidates, totalling 50 fits\n"
     ]
    },
    {
     "name": "stderr",
     "output_type": "stream",
     "text": [
      "[Parallel(n_jobs=-1)]: Done   2 tasks      | elapsed:    2.1s\n",
      "[Parallel(n_jobs=-1)]: Done  46 out of  50 | elapsed:   19.7s remaining:    1.6s\n",
      "[Parallel(n_jobs=-1)]: Done  50 out of  50 | elapsed:   21.4s finished\n"
     ]
    },
    {
     "name": "stdout",
     "output_type": "stream",
     "text": [
      "Calculating best score from grid search. Metric used is Accuracy\n",
      "Best Accuracy score:  0.8141379909628085\n",
      "Best parameters set from Accuracy Score:\n",
      "alpha 1000\n"
     ]
    },
    {
     "data": {
      "image/png": "[encoded data removed]",
      "text/plain": [
       "<Figure size 432x288 with 1 Axes>"
      ]
     },
     "metadata": {},
     "output_type": "display_data"
    },
    {
     "name": "stdout",
     "output_type": "stream",
     "text": [
      "Fitting 10 folds for each of 5 candidates, totalling 50 fits\n"
     ]
    },
    {
     "name": "stderr",
     "output_type": "stream",
     "text": [
      "[Parallel(n_jobs=-1)]: Done   2 tasks      | elapsed:    2.3s\n",
      "[Parallel(n_jobs=-1)]: Done  46 out of  50 | elapsed:   21.6s remaining:    1.8s\n",
      "[Parallel(n_jobs=-1)]: Done  50 out of  50 | elapsed:   23.6s finished\n"
     ]
    },
    {
     "name": "stdout",
     "output_type": "stream",
     "text": [
      "Calculating best score from grid search. Metric used is F1 Score.\n",
      "Best F1 score:  0.8942707467936859\n",
      "Best parameters set from F1 Score:\n",
      "alpha 1000\n"
     ]
    },
    {
     "data": {
      "image/png": "[encoded data removed]",
      "text/plain": [
       "<Figure size 432x288 with 1 Axes>"
      ]
     },
     "metadata": {},
     "output_type": "display_data"
    },
    {
     "name": "stdout",
     "output_type": "stream",
     "text": [
      "Dimensions of X_test is (108507, 58985) and y_test is (108507,)\n",
      "Predicting with X_test with parameters from F1 Score.....\n",
      "Classification report is .....\n",
      "             precision    recall  f1-score   support\n",
      "\n",
      "   negative       0.55      0.15      0.23     17116\n",
      "   positive       0.86      0.98      0.91     91391\n",
      "\n",
      "avg / total       0.81      0.85      0.81    108507\n",
      "\n",
      "Confusion Matrix is .....\n"
     ]
    },
    {
     "data": {
      "image/png": "[encoded data removed]",
      "text/plain": [
       "<Figure size 360x216 with 2 Axes>"
      ]
     },
     "metadata": {},
     "output_type": "display_data"
    },
    {
     "name": "stdout",
     "output_type": "stream",
     "text": [
      "The top 10 negative words are ['wast' 'return' 'tri' 'one' 'bad' 'would' 'product' 'disappoint' 'like'\n",
      " 'tast']\n",
      "The top 10 positive words are ['make' 'tri' 'one' 'use' 'flavor' 'good' 'tast' 'great' 'like' 'love']\n"
     ]
    }
   ],
   "source": [
    "no_of_records=364171\n",
    "data = get_bow_tfidfdata(no_of_records)\n",
    "run_classifier(data, vectorize_technique ='tfidf')"
   ]
  },
  {
   "cell_type": "markdown",
   "metadata": {},
   "source": [
    "|Model|Hyper Parameter|F1 Train Error|F1 Test Error|\n",
    "| ------------- |:-------------:| -----:|-----:|\n",
    "|NaiveBayes - BoW| alpha(laplace smoothing)=1000 | 10%| 20% |\n",
    "|NaiveBayes - TfIDF|alpha=1000 |  11%|19% |\n"
   ]
  },
  {
   "cell_type": "code",
   "execution_count": null,
   "metadata": {},
   "outputs": [],
   "source": []
  }
 ],
 "metadata": {
  "kernelspec": {
   "display_name": "py_3_6_5_keras",
   "language": "python",
   "name": "py_3_6_5_keras"
  },
  "language_info": {
   "codemirror_mode": {
    "name": "ipython",
    "version": 3
   },
   "file_extension": ".py",
   "mimetype": "text/x-python",
   "name": "python",
   "nbconvert_exporter": "python",
   "pygments_lexer": "ipython3",
   "version": "3.6.5"
  }
 },
 "nbformat": 4,
 "nbformat_minor": 2
}

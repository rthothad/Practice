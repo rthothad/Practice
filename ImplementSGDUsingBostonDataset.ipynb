{
 "cells": [
  {
   "cell_type": "code",
   "execution_count": 1,
   "metadata": {},
   "outputs": [],
   "source": [
    "import pandas as pd\n",
    "import matplotlib.pyplot as plt\n",
    "import numpy as np \n",
    "\n",
    "#This has home prices as your y_is and x_is and contains a bunch of features related to homes\n",
    "from sklearn.datasets import load_boston\n",
    "from sklearn.model_selection import train_test_split\n",
    "from sklearn.linear_model import LinearRegression\n",
    "from sklearn.metrics import mean_squared_error\n",
    "from sklearn.preprocessing import StandardScaler\n",
    "from sklearn.preprocessing import scale\n",
    "\n",
    "from datetime import datetime"
   ]
  },
  {
   "cell_type": "code",
   "execution_count": 2,
   "metadata": {},
   "outputs": [
    {
     "name": "stdout",
     "output_type": "stream",
     "text": [
      "This dataset contains data about 506 homes and each containing 13 features about them\n"
     ]
    }
   ],
   "source": [
    "#Load boston homes data\n",
    "boston = load_boston()\n",
    "print('This dataset contains data about {} homes and each containing {} features about them'. format(*boston.data.shape))"
   ]
  },
  {
   "cell_type": "code",
   "execution_count": 3,
   "metadata": {},
   "outputs": [
    {
     "name": "stdout",
     "output_type": "stream",
     "text": [
      "        0     1     2    3      4      5     6       7    8      9     10  \\\n",
      "0  0.00632  18.0  2.31  0.0  0.538  6.575  65.2  4.0900  1.0  296.0  15.3   \n",
      "1  0.02731   0.0  7.07  0.0  0.469  6.421  78.9  4.9671  2.0  242.0  17.8   \n",
      "2  0.02729   0.0  7.07  0.0  0.469  7.185  61.1  4.9671  2.0  242.0  17.8   \n",
      "3  0.03237   0.0  2.18  0.0  0.458  6.998  45.8  6.0622  3.0  222.0  18.7   \n",
      "4  0.06905   0.0  2.18  0.0  0.458  7.147  54.2  6.0622  3.0  222.0  18.7   \n",
      "\n",
      "       11    12  \n",
      "0  396.90  4.98  \n",
      "1  396.90  9.14  \n",
      "2  392.83  4.03  \n",
      "3  394.63  2.94  \n",
      "4  396.90  5.33  \n"
     ]
    }
   ],
   "source": [
    "bos = pd.DataFrame(boston.data)\n",
    "print(bos.head())\n",
    "#Add y_is to the dataframe\n",
    "bos['PRICE'] = boston.target\n",
    "\n",
    "X = bos.drop('PRICE', axis = 1)\n",
    "y = bos['PRICE']"
   ]
  },
  {
   "cell_type": "code",
   "execution_count": 4,
   "metadata": {},
   "outputs": [],
   "source": [
    "def normalize(X):\n",
    "    mean = np.mean(X)\n",
    "    std_dev = np.std(X)\n",
    "    \n",
    "    X = ((X - mean)/std_dev)\n",
    "    return X, mean, std_dev"
   ]
  },
  {
   "cell_type": "code",
   "execution_count": 6,
   "metadata": {},
   "outputs": [],
   "source": [
    "def add_intercept_term(X):\n",
    "    m = len(X)\n",
    "    ones = np.ones((m,1))\n",
    "    X = np.hstack((ones, X))\n",
    "    return X"
   ]
  },
  {
   "cell_type": "code",
   "execution_count": 30,
   "metadata": {},
   "outputs": [],
   "source": [
    "def computeCost(X, y, W):\n",
    "    m = len(y)\n",
    "    error = (np.sum((np.dot(X, W) - y)**2))/(2*m)\n",
    "    mse = (1.0/m) * np.sum(np.power(error, 2))\n",
    "    return mse"
   ]
  },
  {
   "cell_type": "code",
   "execution_count": 28,
   "metadata": {},
   "outputs": [],
   "source": [
    "def plot_errors(errors):\n",
    "    fig, ax = plt.subplots(figsize=(6,4))\n",
    "    ax.plot(range(len(errors)), errors, 'r')\n",
    "    ax.set_xlabel('Iterations')\n",
    "    ax.set_ylabel('Error')\n",
    "    ax.set_title('Error vs. Training Epoch')"
   ]
  },
  {
   "cell_type": "code",
   "execution_count": 50,
   "metadata": {},
   "outputs": [],
   "source": [
    "def stochastic_gradient_descent(W, alpha, train, scaler,tolerance, batch_size=50, scale_values=True, decay_lr=False):\n",
    "    # Perform Gradient Descent\n",
    "    iterations = 1\n",
    "    errors = []\n",
    "    min_error = 10000000000000\n",
    "    while True:\n",
    "        random_subset = train.sample(n=batch_size)\n",
    "        X_train = random_subset.drop('PRICE', axis = 1)\n",
    "\n",
    "        if scale_values:\n",
    "            X_std_train = scaler.transform(X_train)\n",
    "            X_std_train = add_intercept_term(X_std_train)\n",
    "        else:\n",
    "            X_std_train = X_train.values\n",
    "            \n",
    "        y_train = random_subset['PRICE']\n",
    "        \n",
    "        m = len(y_train.values)\n",
    "        \n",
    "        new_W = W - (alpha/m)*np.sum((np.dot(X_std_train, W) - y_train)[:,None]* X_std_train, axis=0)\n",
    "        \n",
    "        mse = computeCost(X_std_train, y_train.values, new_W)\n",
    "\n",
    "        errors.append(mse)\n",
    "\n",
    "        # Stopping Condition\n",
    "        mse_tolerance = 10\n",
    "        if (np.sum(abs(new_W - W)) < tolerance) or (mse < mse_tolerance):\n",
    "            if np.sum(abs(new_W - W)) < tolerance:\n",
    "                print (\"Converged because we reached the tolerance limit\")\n",
    "            elif mse < mse_tolerance:\n",
    "                print (\"Converged because error is less than {}\".format(mse_tolerance))\n",
    "            print (\"Iteration: %d - Mean Squared: %.4f\" %(iterations, mse))\n",
    "            break\n",
    "\n",
    "        # Print error every 1000 iterations\n",
    "        if iterations % 1000 == 0:\n",
    "            print (\"Iteration: %d - Mean Squared Error: %.4f\" %(iterations, mse))\n",
    "\n",
    "        if iterations % 100000 == 0:\n",
    "            ist = datetime.now()\n",
    "            print (format(ist, '%H:%M:%S'))\n",
    "\n",
    "        #reduce learning rate by 1/2 every 100 iterions\n",
    "        if iterations % 10000 == 0:\n",
    "            print ('Mean Squared Error at iteration {} is {}'.format(iterations, mse))\n",
    "        if decay_lr:\n",
    "            print ('Reducing learning rate from {} to {}'.format(alpha, alpha/2))\n",
    "            alpha = alpha/(iterations+1)\n",
    "                \n",
    "        iterations += 1\n",
    "        W = new_W\n",
    "    return W, errors"
   ]
  },
  {
   "cell_type": "code",
   "execution_count": 9,
   "metadata": {},
   "outputs": [
    {
     "name": "stdout",
     "output_type": "stream",
     "text": [
      "X shape is (506, 13). X_train shape is (339, 13). y_train is (339,). \n",
      "X_test is (167, 13) and y_test is (167,)\n"
     ]
    }
   ],
   "source": [
    "X_train, X_test, y_train, y_test = train_test_split(X, y, test_size = 0.33, random_state = 5)\n",
    "print('X shape is {}. X_train shape is {}. y_train is {}. \\nX_test is {} and y_test is {}'.\\\n",
    "      format(X.shape, X_train.shape, y_train.shape, X_test.shape, y_test.shape))"
   ]
  },
  {
   "cell_type": "code",
   "execution_count": 51,
   "metadata": {},
   "outputs": [
    {
     "name": "stdout",
     "output_type": "stream",
     "text": [
      "11:48:14\n",
      "Iteration: 1000 - Mean Squared Error: 1193.4626\n",
      "Iteration: 2000 - Mean Squared Error: 777.8389\n",
      "Iteration: 3000 - Mean Squared Error: 603.2802\n",
      "Iteration: 4000 - Mean Squared Error: 304.3972\n",
      "Iteration: 5000 - Mean Squared Error: 330.3958\n",
      "Iteration: 6000 - Mean Squared Error: 171.0974\n",
      "Iteration: 7000 - Mean Squared Error: 166.8009\n",
      "Iteration: 8000 - Mean Squared Error: 52.6786\n",
      "Iteration: 9000 - Mean Squared Error: 88.5842\n",
      "Iteration: 10000 - Mean Squared Error: 25.0334\n",
      "Mean Squared Error at iteration 10000 is 25.0333891749439\n",
      "Iteration: 11000 - Mean Squared Error: 42.4449\n",
      "Converged because error is less than 10\n",
      "Iteration: 11141 - Mean Squared: 9.2762\n",
      "Weights is [-0.58765092  0.97878447 -0.20004876  0.69859108  0.06818386  3.34940405\n",
      "  0.15290504  0.25397873 -0.01754282 -0.49103406 -1.21920384  1.3133417\n",
      " -1.78684111]\n",
      "Intercept term is [15.47244145]\n",
      "Mean Squared Error predicting test data is 11.71087529291574\n"
     ]
    },
    {
     "data": {
      "image/png": "[encoded data removed]",
      "text/plain": [
       "<Figure size 432x288 with 1 Axes>"
      ]
     },
     "metadata": {},
     "output_type": "display_data"
    }
   ],
   "source": [
    "#With standardization\n",
    "\n",
    "scaler = StandardScaler().fit(X_train)\n",
    "\n",
    "df_train = pd.concat([X_train, y_train], axis=1)\n",
    "\n",
    "# alpha = 0.0000000000000001\n",
    "# alpha = 0.000001\n",
    "\n",
    "# Use this alpha for non-scaled values. Ensure scale_values is set to False below\n",
    "alpha = 0.0001\n",
    "\n",
    "# tolerance = 1e-5\n",
    "tolerance = 1e-15\n",
    "batch_size = 50\n",
    "scale_values = True\n",
    "if scale_values:\n",
    "    #we will be adding the 'ones' column \n",
    "    W = np.ones(X_train.shape[1]+1)\n",
    "else:\n",
    "    W = np.ones(X_train.shape[1])\n",
    "\n",
    "decay_lr = False\n",
    "\n",
    "ist = datetime.now()\n",
    "print (format(ist, '%H:%M:%S'))\n",
    "\n",
    "W, errors = stochastic_gradient_descent(W, alpha, df_train, scaler, tolerance, batch_size, scale_values, decay_lr)\n",
    "\n",
    "print ('Weights is {}'.format(W[1:]))\n",
    "print ('Intercept term is {}'.format(W[0:1]))\n",
    "\n",
    "if scale_values:\n",
    "    X_std_test = scaler.transform(X_test)\n",
    "    X_std_test = add_intercept_term(X_std_test)\n",
    "else:\n",
    "    X_std_test = X_test.values\n",
    "    \n",
    "# mse = get_gradient(W, X_std_test, y_test.values)[1]\n",
    "mse = computeCost(X_std_test, y_test.values, W)\n",
    "print(\"Mean Squared Error predicting test data is {}\".format(mse))\n",
    "plot_errors(errors)"
   ]
  },
  {
   "cell_type": "code",
   "execution_count": 41,
   "metadata": {},
   "outputs": [
    {
     "name": "stdout",
     "output_type": "stream",
     "text": [
      "Mean Squared error using Linear Regression from Sklearn is 28.541367275618253\n",
      "Weights returned from SKLearn is [-1.56381297e-01  3.85490972e-02 -2.50629921e-02  7.86439684e-01\n",
      " -1.29469121e+01  4.00268857e+00 -1.16023395e-02 -1.36828811e+00\n",
      "  3.41756915e-01 -1.35148823e-02 -9.88866034e-01  1.20588215e-02\n",
      " -4.72644280e-01]\n",
      "Intercept term returned from SKLearn is 32.858932634086386\n"
     ]
    }
   ],
   "source": [
    "reg = LinearRegression(normalize=True).fit(X_train, y_train)\n",
    "score = reg.score(X_train, y_train)\n",
    "weights = reg.coef_\n",
    "intercept = reg.intercept_ \n",
    "y_pred = reg.predict(X_test)\n",
    "mse = mean_squared_error(y_test, y_pred)\n",
    "print ('Mean Squared error using Linear Regression from Sklearn is {}'.format(mse))\n",
    "print ('Weights returned from SKLearn is {}'.format(weights))\n",
    "print ('Intercept term returned from SKLearn is {}'.format(intercept))"
   ]
  },
  {
   "cell_type": "markdown",
   "metadata": {},
   "source": [
    "## Mean Squared error using Linear Regression from Sklearn is 28.541367275618253\n",
    "## Mean Squared error using SGD implemented by me is 11.71087529291574"
   ]
  },
  {
   "cell_type": "code",
   "execution_count": null,
   "metadata": {},
   "outputs": [],
   "source": []
  }
 ],
 "metadata": {
  "kernelspec": {
   "display_name": "py_3_6_5_keras",
   "language": "python",
   "name": "py_3_6_5_keras"
  },
  "language_info": {
   "codemirror_mode": {
    "name": "ipython",
    "version": 3
   },
   "file_extension": ".py",
   "mimetype": "text/x-python",
   "name": "python",
   "nbconvert_exporter": "python",
   "pygments_lexer": "ipython3",
   "version": "3.6.5"
  }
 },
 "nbformat": 4,
 "nbformat_minor": 2
}
